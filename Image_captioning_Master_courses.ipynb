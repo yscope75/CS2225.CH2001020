{
  "nbformat": 4,
  "nbformat_minor": 0,
  "metadata": {
    "colab": {
      "name": "Image captioning - Master courses.ipynb",
      "provenance": [],
      "collapsed_sections": [],
      "toc_visible": true,
      "machine_shape": "hm",
      "authorship_tag": "ABX9TyOd53Rw5IWEVKO2j0a1ECn5",
      "include_colab_link": true
    },
    "kernelspec": {
      "display_name": "Python 3",
      "name": "python3"
    },
    "accelerator": "GPU",
    "widgets": {
      "application/vnd.jupyter.widget-state+json": {
        "37c8df90d8ce4717b1e534050ef92a48": {
          "model_module": "@jupyter-widgets/controls",
          "model_name": "HBoxModel",
          "state": {
            "_view_name": "HBoxView",
            "_dom_classes": [],
            "_model_name": "HBoxModel",
            "_view_module": "@jupyter-widgets/controls",
            "_model_module_version": "1.5.0",
            "_view_count": null,
            "_view_module_version": "1.5.0",
            "box_style": "",
            "layout": "IPY_MODEL_bdb125d0738b480ea1d96ba991b8762f",
            "_model_module": "@jupyter-widgets/controls",
            "children": [
              "IPY_MODEL_0b539213677c4e979c7b09e1bf985f6f",
              "IPY_MODEL_98900cbf83e34fc5a64d72556b36cf37"
            ]
          }
        },
        "bdb125d0738b480ea1d96ba991b8762f": {
          "model_module": "@jupyter-widgets/base",
          "model_name": "LayoutModel",
          "state": {
            "_view_name": "LayoutView",
            "grid_template_rows": null,
            "right": null,
            "justify_content": null,
            "_view_module": "@jupyter-widgets/base",
            "overflow": null,
            "_model_module_version": "1.2.0",
            "_view_count": null,
            "flex_flow": null,
            "width": null,
            "min_width": null,
            "border": null,
            "align_items": null,
            "bottom": null,
            "_model_module": "@jupyter-widgets/base",
            "top": null,
            "grid_column": null,
            "overflow_y": null,
            "overflow_x": null,
            "grid_auto_flow": null,
            "grid_area": null,
            "grid_template_columns": null,
            "flex": null,
            "_model_name": "LayoutModel",
            "justify_items": null,
            "grid_row": null,
            "max_height": null,
            "align_content": null,
            "visibility": null,
            "align_self": null,
            "height": null,
            "min_height": null,
            "padding": null,
            "grid_auto_rows": null,
            "grid_gap": null,
            "max_width": null,
            "order": null,
            "_view_module_version": "1.2.0",
            "grid_template_areas": null,
            "object_position": null,
            "object_fit": null,
            "grid_auto_columns": null,
            "margin": null,
            "display": null,
            "left": null
          }
        },
        "0b539213677c4e979c7b09e1bf985f6f": {
          "model_module": "@jupyter-widgets/controls",
          "model_name": "FloatProgressModel",
          "state": {
            "_view_name": "ProgressView",
            "style": "IPY_MODEL_53bc0f737d4f4cbcbaf73fe79ddcf074",
            "_dom_classes": [],
            "description": "",
            "_model_name": "FloatProgressModel",
            "bar_style": "info",
            "max": 1,
            "_view_module": "@jupyter-widgets/controls",
            "_model_module_version": "1.5.0",
            "value": 1,
            "_view_count": null,
            "_view_module_version": "1.5.0",
            "orientation": "horizontal",
            "min": 0,
            "description_tooltip": null,
            "_model_module": "@jupyter-widgets/controls",
            "layout": "IPY_MODEL_88f8ae217f2c4e308810b723750aeca7"
          }
        },
        "98900cbf83e34fc5a64d72556b36cf37": {
          "model_module": "@jupyter-widgets/controls",
          "model_name": "HTMLModel",
          "state": {
            "_view_name": "HTMLView",
            "style": "IPY_MODEL_54ae0b1415a14e5ca6fb463f8da862b0",
            "_dom_classes": [],
            "description": "",
            "_model_name": "HTMLModel",
            "placeholder": "​",
            "_view_module": "@jupyter-widgets/controls",
            "_model_module_version": "1.5.0",
            "value": " 252878848/? [00:19&lt;00:00, 66931498.12it/s]",
            "_view_count": null,
            "_view_module_version": "1.5.0",
            "description_tooltip": null,
            "_model_module": "@jupyter-widgets/controls",
            "layout": "IPY_MODEL_0a876be96744426991aebb171758a147"
          }
        },
        "53bc0f737d4f4cbcbaf73fe79ddcf074": {
          "model_module": "@jupyter-widgets/controls",
          "model_name": "ProgressStyleModel",
          "state": {
            "_view_name": "StyleView",
            "_model_name": "ProgressStyleModel",
            "description_width": "initial",
            "_view_module": "@jupyter-widgets/base",
            "_model_module_version": "1.5.0",
            "_view_count": null,
            "_view_module_version": "1.2.0",
            "bar_color": null,
            "_model_module": "@jupyter-widgets/controls"
          }
        },
        "88f8ae217f2c4e308810b723750aeca7": {
          "model_module": "@jupyter-widgets/base",
          "model_name": "LayoutModel",
          "state": {
            "_view_name": "LayoutView",
            "grid_template_rows": null,
            "right": null,
            "justify_content": null,
            "_view_module": "@jupyter-widgets/base",
            "overflow": null,
            "_model_module_version": "1.2.0",
            "_view_count": null,
            "flex_flow": null,
            "width": null,
            "min_width": null,
            "border": null,
            "align_items": null,
            "bottom": null,
            "_model_module": "@jupyter-widgets/base",
            "top": null,
            "grid_column": null,
            "overflow_y": null,
            "overflow_x": null,
            "grid_auto_flow": null,
            "grid_area": null,
            "grid_template_columns": null,
            "flex": null,
            "_model_name": "LayoutModel",
            "justify_items": null,
            "grid_row": null,
            "max_height": null,
            "align_content": null,
            "visibility": null,
            "align_self": null,
            "height": null,
            "min_height": null,
            "padding": null,
            "grid_auto_rows": null,
            "grid_gap": null,
            "max_width": null,
            "order": null,
            "_view_module_version": "1.2.0",
            "grid_template_areas": null,
            "object_position": null,
            "object_fit": null,
            "grid_auto_columns": null,
            "margin": null,
            "display": null,
            "left": null
          }
        },
        "54ae0b1415a14e5ca6fb463f8da862b0": {
          "model_module": "@jupyter-widgets/controls",
          "model_name": "DescriptionStyleModel",
          "state": {
            "_view_name": "StyleView",
            "_model_name": "DescriptionStyleModel",
            "description_width": "",
            "_view_module": "@jupyter-widgets/base",
            "_model_module_version": "1.5.0",
            "_view_count": null,
            "_view_module_version": "1.2.0",
            "_model_module": "@jupyter-widgets/controls"
          }
        },
        "0a876be96744426991aebb171758a147": {
          "model_module": "@jupyter-widgets/base",
          "model_name": "LayoutModel",
          "state": {
            "_view_name": "LayoutView",
            "grid_template_rows": null,
            "right": null,
            "justify_content": null,
            "_view_module": "@jupyter-widgets/base",
            "overflow": null,
            "_model_module_version": "1.2.0",
            "_view_count": null,
            "flex_flow": null,
            "width": null,
            "min_width": null,
            "border": null,
            "align_items": null,
            "bottom": null,
            "_model_module": "@jupyter-widgets/base",
            "top": null,
            "grid_column": null,
            "overflow_y": null,
            "overflow_x": null,
            "grid_auto_flow": null,
            "grid_area": null,
            "grid_template_columns": null,
            "flex": null,
            "_model_name": "LayoutModel",
            "justify_items": null,
            "grid_row": null,
            "max_height": null,
            "align_content": null,
            "visibility": null,
            "align_self": null,
            "height": null,
            "min_height": null,
            "padding": null,
            "grid_auto_rows": null,
            "grid_gap": null,
            "max_width": null,
            "order": null,
            "_view_module_version": "1.2.0",
            "grid_template_areas": null,
            "object_position": null,
            "object_fit": null,
            "grid_auto_columns": null,
            "margin": null,
            "display": null,
            "left": null
          }
        },
        "bab35b6647204c47b926f272e80c7dba": {
          "model_module": "@jupyter-widgets/controls",
          "model_name": "HBoxModel",
          "state": {
            "_view_name": "HBoxView",
            "_dom_classes": [],
            "_model_name": "HBoxModel",
            "_view_module": "@jupyter-widgets/controls",
            "_model_module_version": "1.5.0",
            "_view_count": null,
            "_view_module_version": "1.5.0",
            "box_style": "",
            "layout": "IPY_MODEL_27b502f90f3d40ce8ef914b5f4abf9e3",
            "_model_module": "@jupyter-widgets/controls",
            "children": [
              "IPY_MODEL_a89550a7b1f34413bd1dad583b417c13",
              "IPY_MODEL_df2df5b5dbb04c1baa3b1f534e0290e2"
            ]
          }
        },
        "27b502f90f3d40ce8ef914b5f4abf9e3": {
          "model_module": "@jupyter-widgets/base",
          "model_name": "LayoutModel",
          "state": {
            "_view_name": "LayoutView",
            "grid_template_rows": null,
            "right": null,
            "justify_content": null,
            "_view_module": "@jupyter-widgets/base",
            "overflow": null,
            "_model_module_version": "1.2.0",
            "_view_count": null,
            "flex_flow": null,
            "width": null,
            "min_width": null,
            "border": null,
            "align_items": null,
            "bottom": null,
            "_model_module": "@jupyter-widgets/base",
            "top": null,
            "grid_column": null,
            "overflow_y": null,
            "overflow_x": null,
            "grid_auto_flow": null,
            "grid_area": null,
            "grid_template_columns": null,
            "flex": null,
            "_model_name": "LayoutModel",
            "justify_items": null,
            "grid_row": null,
            "max_height": null,
            "align_content": null,
            "visibility": null,
            "align_self": null,
            "height": null,
            "min_height": null,
            "padding": null,
            "grid_auto_rows": null,
            "grid_gap": null,
            "max_width": null,
            "order": null,
            "_view_module_version": "1.2.0",
            "grid_template_areas": null,
            "object_position": null,
            "object_fit": null,
            "grid_auto_columns": null,
            "margin": null,
            "display": null,
            "left": null
          }
        },
        "a89550a7b1f34413bd1dad583b417c13": {
          "model_module": "@jupyter-widgets/controls",
          "model_name": "FloatProgressModel",
          "state": {
            "_view_name": "ProgressView",
            "style": "IPY_MODEL_481edd99d7cd42f2855b4b29302749ed",
            "_dom_classes": [],
            "description": "",
            "_model_name": "FloatProgressModel",
            "bar_style": "info",
            "max": 1,
            "_view_module": "@jupyter-widgets/controls",
            "_model_module_version": "1.5.0",
            "value": 1,
            "_view_count": null,
            "_view_module_version": "1.5.0",
            "orientation": "horizontal",
            "min": 0,
            "description_tooltip": null,
            "_model_module": "@jupyter-widgets/controls",
            "layout": "IPY_MODEL_c0f76dc1182b429f9ab6e057ed8f43bb"
          }
        },
        "df2df5b5dbb04c1baa3b1f534e0290e2": {
          "model_module": "@jupyter-widgets/controls",
          "model_name": "HTMLModel",
          "state": {
            "_view_name": "HTMLView",
            "style": "IPY_MODEL_29f6f4cbc06245b982a17096d30ef42c",
            "_dom_classes": [],
            "description": "",
            "_model_name": "HTMLModel",
            "placeholder": "​",
            "_view_module": "@jupyter-widgets/controls",
            "_model_module_version": "1.5.0",
            "value": " 13510574080/? [02:50&lt;00:00, 36117281.29it/s]",
            "_view_count": null,
            "_view_module_version": "1.5.0",
            "description_tooltip": null,
            "_model_module": "@jupyter-widgets/controls",
            "layout": "IPY_MODEL_ac15d4f56bd04cecb51722248fd6a3ac"
          }
        },
        "481edd99d7cd42f2855b4b29302749ed": {
          "model_module": "@jupyter-widgets/controls",
          "model_name": "ProgressStyleModel",
          "state": {
            "_view_name": "StyleView",
            "_model_name": "ProgressStyleModel",
            "description_width": "initial",
            "_view_module": "@jupyter-widgets/base",
            "_model_module_version": "1.5.0",
            "_view_count": null,
            "_view_module_version": "1.2.0",
            "bar_color": null,
            "_model_module": "@jupyter-widgets/controls"
          }
        },
        "c0f76dc1182b429f9ab6e057ed8f43bb": {
          "model_module": "@jupyter-widgets/base",
          "model_name": "LayoutModel",
          "state": {
            "_view_name": "LayoutView",
            "grid_template_rows": null,
            "right": null,
            "justify_content": null,
            "_view_module": "@jupyter-widgets/base",
            "overflow": null,
            "_model_module_version": "1.2.0",
            "_view_count": null,
            "flex_flow": null,
            "width": null,
            "min_width": null,
            "border": null,
            "align_items": null,
            "bottom": null,
            "_model_module": "@jupyter-widgets/base",
            "top": null,
            "grid_column": null,
            "overflow_y": null,
            "overflow_x": null,
            "grid_auto_flow": null,
            "grid_area": null,
            "grid_template_columns": null,
            "flex": null,
            "_model_name": "LayoutModel",
            "justify_items": null,
            "grid_row": null,
            "max_height": null,
            "align_content": null,
            "visibility": null,
            "align_self": null,
            "height": null,
            "min_height": null,
            "padding": null,
            "grid_auto_rows": null,
            "grid_gap": null,
            "max_width": null,
            "order": null,
            "_view_module_version": "1.2.0",
            "grid_template_areas": null,
            "object_position": null,
            "object_fit": null,
            "grid_auto_columns": null,
            "margin": null,
            "display": null,
            "left": null
          }
        },
        "29f6f4cbc06245b982a17096d30ef42c": {
          "model_module": "@jupyter-widgets/controls",
          "model_name": "DescriptionStyleModel",
          "state": {
            "_view_name": "StyleView",
            "_model_name": "DescriptionStyleModel",
            "description_width": "",
            "_view_module": "@jupyter-widgets/base",
            "_model_module_version": "1.5.0",
            "_view_count": null,
            "_view_module_version": "1.2.0",
            "_model_module": "@jupyter-widgets/controls"
          }
        },
        "ac15d4f56bd04cecb51722248fd6a3ac": {
          "model_module": "@jupyter-widgets/base",
          "model_name": "LayoutModel",
          "state": {
            "_view_name": "LayoutView",
            "grid_template_rows": null,
            "right": null,
            "justify_content": null,
            "_view_module": "@jupyter-widgets/base",
            "overflow": null,
            "_model_module_version": "1.2.0",
            "_view_count": null,
            "flex_flow": null,
            "width": null,
            "min_width": null,
            "border": null,
            "align_items": null,
            "bottom": null,
            "_model_module": "@jupyter-widgets/base",
            "top": null,
            "grid_column": null,
            "overflow_y": null,
            "overflow_x": null,
            "grid_auto_flow": null,
            "grid_area": null,
            "grid_template_columns": null,
            "flex": null,
            "_model_name": "LayoutModel",
            "justify_items": null,
            "grid_row": null,
            "max_height": null,
            "align_content": null,
            "visibility": null,
            "align_self": null,
            "height": null,
            "min_height": null,
            "padding": null,
            "grid_auto_rows": null,
            "grid_gap": null,
            "max_width": null,
            "order": null,
            "_view_module_version": "1.2.0",
            "grid_template_areas": null,
            "object_position": null,
            "object_fit": null,
            "grid_auto_columns": null,
            "margin": null,
            "display": null,
            "left": null
          }
        },
        "5f133a50a51640a9a34122e657810e4e": {
          "model_module": "@jupyter-widgets/controls",
          "model_name": "HBoxModel",
          "state": {
            "_view_name": "HBoxView",
            "_dom_classes": [],
            "_model_name": "HBoxModel",
            "_view_module": "@jupyter-widgets/controls",
            "_model_module_version": "1.5.0",
            "_view_count": null,
            "_view_module_version": "1.5.0",
            "box_style": "",
            "layout": "IPY_MODEL_75412b1e3a084ce9a606196db25d5978",
            "_model_module": "@jupyter-widgets/controls",
            "children": [
              "IPY_MODEL_9f8ca7ce77114666a693dacdef3cbd6f",
              "IPY_MODEL_15f9cf483bf84533989ff947b8e16ce8"
            ]
          }
        },
        "75412b1e3a084ce9a606196db25d5978": {
          "model_module": "@jupyter-widgets/base",
          "model_name": "LayoutModel",
          "state": {
            "_view_name": "LayoutView",
            "grid_template_rows": null,
            "right": null,
            "justify_content": null,
            "_view_module": "@jupyter-widgets/base",
            "overflow": null,
            "_model_module_version": "1.2.0",
            "_view_count": null,
            "flex_flow": null,
            "width": null,
            "min_width": null,
            "border": null,
            "align_items": null,
            "bottom": null,
            "_model_module": "@jupyter-widgets/base",
            "top": null,
            "grid_column": null,
            "overflow_y": null,
            "overflow_x": null,
            "grid_auto_flow": null,
            "grid_area": null,
            "grid_template_columns": null,
            "flex": null,
            "_model_name": "LayoutModel",
            "justify_items": null,
            "grid_row": null,
            "max_height": null,
            "align_content": null,
            "visibility": null,
            "align_self": null,
            "height": null,
            "min_height": null,
            "padding": null,
            "grid_auto_rows": null,
            "grid_gap": null,
            "max_width": null,
            "order": null,
            "_view_module_version": "1.2.0",
            "grid_template_areas": null,
            "object_position": null,
            "object_fit": null,
            "grid_auto_columns": null,
            "margin": null,
            "display": null,
            "left": null
          }
        },
        "9f8ca7ce77114666a693dacdef3cbd6f": {
          "model_module": "@jupyter-widgets/controls",
          "model_name": "FloatProgressModel",
          "state": {
            "_view_name": "ProgressView",
            "style": "IPY_MODEL_3b9a38dc58c24232984e87f0eb729b95",
            "_dom_classes": [],
            "description": "100%",
            "_model_name": "FloatProgressModel",
            "bar_style": "success",
            "max": 241530880,
            "_view_module": "@jupyter-widgets/controls",
            "_model_module_version": "1.5.0",
            "value": 241530880,
            "_view_count": null,
            "_view_module_version": "1.5.0",
            "orientation": "horizontal",
            "min": 0,
            "description_tooltip": null,
            "_model_module": "@jupyter-widgets/controls",
            "layout": "IPY_MODEL_b5866926ee2f4506980a02de31ebf2b7"
          }
        },
        "15f9cf483bf84533989ff947b8e16ce8": {
          "model_module": "@jupyter-widgets/controls",
          "model_name": "HTMLModel",
          "state": {
            "_view_name": "HTMLView",
            "style": "IPY_MODEL_e910466520df477cb4844724d3dc8668",
            "_dom_classes": [],
            "description": "",
            "_model_name": "HTMLModel",
            "placeholder": "​",
            "_view_module": "@jupyter-widgets/controls",
            "_model_module_version": "1.5.0",
            "value": " 230M/230M [00:03&lt;00:00, 62.3MB/s]",
            "_view_count": null,
            "_view_module_version": "1.5.0",
            "description_tooltip": null,
            "_model_module": "@jupyter-widgets/controls",
            "layout": "IPY_MODEL_01292e2a88a645d2bf36fcbf7d1163d2"
          }
        },
        "3b9a38dc58c24232984e87f0eb729b95": {
          "model_module": "@jupyter-widgets/controls",
          "model_name": "ProgressStyleModel",
          "state": {
            "_view_name": "StyleView",
            "_model_name": "ProgressStyleModel",
            "description_width": "initial",
            "_view_module": "@jupyter-widgets/base",
            "_model_module_version": "1.5.0",
            "_view_count": null,
            "_view_module_version": "1.2.0",
            "bar_color": null,
            "_model_module": "@jupyter-widgets/controls"
          }
        },
        "b5866926ee2f4506980a02de31ebf2b7": {
          "model_module": "@jupyter-widgets/base",
          "model_name": "LayoutModel",
          "state": {
            "_view_name": "LayoutView",
            "grid_template_rows": null,
            "right": null,
            "justify_content": null,
            "_view_module": "@jupyter-widgets/base",
            "overflow": null,
            "_model_module_version": "1.2.0",
            "_view_count": null,
            "flex_flow": null,
            "width": null,
            "min_width": null,
            "border": null,
            "align_items": null,
            "bottom": null,
            "_model_module": "@jupyter-widgets/base",
            "top": null,
            "grid_column": null,
            "overflow_y": null,
            "overflow_x": null,
            "grid_auto_flow": null,
            "grid_area": null,
            "grid_template_columns": null,
            "flex": null,
            "_model_name": "LayoutModel",
            "justify_items": null,
            "grid_row": null,
            "max_height": null,
            "align_content": null,
            "visibility": null,
            "align_self": null,
            "height": null,
            "min_height": null,
            "padding": null,
            "grid_auto_rows": null,
            "grid_gap": null,
            "max_width": null,
            "order": null,
            "_view_module_version": "1.2.0",
            "grid_template_areas": null,
            "object_position": null,
            "object_fit": null,
            "grid_auto_columns": null,
            "margin": null,
            "display": null,
            "left": null
          }
        },
        "e910466520df477cb4844724d3dc8668": {
          "model_module": "@jupyter-widgets/controls",
          "model_name": "DescriptionStyleModel",
          "state": {
            "_view_name": "StyleView",
            "_model_name": "DescriptionStyleModel",
            "description_width": "",
            "_view_module": "@jupyter-widgets/base",
            "_model_module_version": "1.5.0",
            "_view_count": null,
            "_view_module_version": "1.2.0",
            "_model_module": "@jupyter-widgets/controls"
          }
        },
        "01292e2a88a645d2bf36fcbf7d1163d2": {
          "model_module": "@jupyter-widgets/base",
          "model_name": "LayoutModel",
          "state": {
            "_view_name": "LayoutView",
            "grid_template_rows": null,
            "right": null,
            "justify_content": null,
            "_view_module": "@jupyter-widgets/base",
            "overflow": null,
            "_model_module_version": "1.2.0",
            "_view_count": null,
            "flex_flow": null,
            "width": null,
            "min_width": null,
            "border": null,
            "align_items": null,
            "bottom": null,
            "_model_module": "@jupyter-widgets/base",
            "top": null,
            "grid_column": null,
            "overflow_y": null,
            "overflow_x": null,
            "grid_auto_flow": null,
            "grid_area": null,
            "grid_template_columns": null,
            "flex": null,
            "_model_name": "LayoutModel",
            "justify_items": null,
            "grid_row": null,
            "max_height": null,
            "align_content": null,
            "visibility": null,
            "align_self": null,
            "height": null,
            "min_height": null,
            "padding": null,
            "grid_auto_rows": null,
            "grid_gap": null,
            "max_width": null,
            "order": null,
            "_view_module_version": "1.2.0",
            "grid_template_areas": null,
            "object_position": null,
            "object_fit": null,
            "grid_auto_columns": null,
            "margin": null,
            "display": null,
            "left": null
          }
        }
      }
    }
  },
  "cells": [
    {
      "cell_type": "markdown",
      "metadata": {
        "id": "view-in-github",
        "colab_type": "text"
      },
      "source": [
        "<a href=\"https://colab.research.google.com/github/yscope75/CS2225.CH2001020/blob/master/Image_captioning_Master_courses.ipynb\" target=\"_parent\"><img src=\"https://colab.research.google.com/assets/colab-badge.svg\" alt=\"Open In Colab\"/></a>"
      ]
    },
    {
      "cell_type": "code",
      "metadata": {
        "colab": {
          "base_uri": "https://localhost:8080/"
        },
        "id": "6xu2ych_bSOX",
        "outputId": "3811be1c-e8e6-44e1-a889-6077da6de96d"
      },
      "source": [
        "# Update torchtext version\r\n",
        "!pip3 install torchvision==0.8.0\r\n",
        "!pip3 install torchtext==0.8.0"
      ],
      "execution_count": 6,
      "outputs": [
        {
          "output_type": "stream",
          "text": [
            "Collecting torchvision==0.8.0\n",
            "\u001b[?25l  Downloading https://files.pythonhosted.org/packages/f5/f9/c290ab410544f16d51cdc291afd2ee1f74c7578133a07c4863c6a574b272/torchvision-0.8.0-cp36-cp36m-manylinux1_x86_64.whl (11.8MB)\n",
            "\u001b[K     |████████████████████████████████| 11.8MB 5.0MB/s \n",
            "\u001b[?25hRequirement already satisfied: torch==1.7.0 in /usr/local/lib/python3.6/dist-packages (from torchvision==0.8.0) (1.7.0+cu101)\n",
            "Requirement already satisfied: pillow>=4.1.1 in /usr/local/lib/python3.6/dist-packages (from torchvision==0.8.0) (7.0.0)\n",
            "Requirement already satisfied: numpy in /usr/local/lib/python3.6/dist-packages (from torchvision==0.8.0) (1.19.5)\n",
            "Requirement already satisfied: typing-extensions in /usr/local/lib/python3.6/dist-packages (from torch==1.7.0->torchvision==0.8.0) (3.7.4.3)\n",
            "Requirement already satisfied: future in /usr/local/lib/python3.6/dist-packages (from torch==1.7.0->torchvision==0.8.0) (0.16.0)\n",
            "Requirement already satisfied: dataclasses in /usr/local/lib/python3.6/dist-packages (from torch==1.7.0->torchvision==0.8.0) (0.8)\n",
            "Installing collected packages: torchvision\n",
            "  Found existing installation: torchvision 0.8.1+cu101\n",
            "    Uninstalling torchvision-0.8.1+cu101:\n",
            "      Successfully uninstalled torchvision-0.8.1+cu101\n",
            "Successfully installed torchvision-0.8.0\n",
            "Collecting torchtext==0.8.0\n",
            "\u001b[?25l  Downloading https://files.pythonhosted.org/packages/23/23/8499af6d9c22b29b01f66a2c11d38ce71cd1cafa2655913c29818ed4a00f/torchtext-0.8.0-cp36-cp36m-manylinux1_x86_64.whl (6.9MB)\n",
            "\u001b[K     |████████████████████████████████| 6.9MB 4.9MB/s \n",
            "\u001b[?25hRequirement already satisfied: torch in /usr/local/lib/python3.6/dist-packages (from torchtext==0.8.0) (1.7.0+cu101)\n",
            "Requirement already satisfied: tqdm in /usr/local/lib/python3.6/dist-packages (from torchtext==0.8.0) (4.41.1)\n",
            "Requirement already satisfied: requests in /usr/local/lib/python3.6/dist-packages (from torchtext==0.8.0) (2.23.0)\n",
            "Requirement already satisfied: numpy in /usr/local/lib/python3.6/dist-packages (from torchtext==0.8.0) (1.19.5)\n",
            "Requirement already satisfied: typing-extensions in /usr/local/lib/python3.6/dist-packages (from torch->torchtext==0.8.0) (3.7.4.3)\n",
            "Requirement already satisfied: future in /usr/local/lib/python3.6/dist-packages (from torch->torchtext==0.8.0) (0.16.0)\n",
            "Requirement already satisfied: dataclasses in /usr/local/lib/python3.6/dist-packages (from torch->torchtext==0.8.0) (0.8)\n",
            "Requirement already satisfied: idna<3,>=2.5 in /usr/local/lib/python3.6/dist-packages (from requests->torchtext==0.8.0) (2.10)\n",
            "Requirement already satisfied: chardet<4,>=3.0.2 in /usr/local/lib/python3.6/dist-packages (from requests->torchtext==0.8.0) (3.0.4)\n",
            "Requirement already satisfied: urllib3!=1.25.0,!=1.25.1,<1.26,>=1.21.1 in /usr/local/lib/python3.6/dist-packages (from requests->torchtext==0.8.0) (1.24.3)\n",
            "Requirement already satisfied: certifi>=2017.4.17 in /usr/local/lib/python3.6/dist-packages (from requests->torchtext==0.8.0) (2020.12.5)\n",
            "Installing collected packages: torchtext\n",
            "  Found existing installation: torchtext 0.3.1\n",
            "    Uninstalling torchtext-0.3.1:\n",
            "      Successfully uninstalled torchtext-0.3.1\n",
            "Successfully installed torchtext-0.8.0\n"
          ],
          "name": "stdout"
        }
      ]
    },
    {
      "cell_type": "code",
      "metadata": {
        "id": "p8ekI-u73s7H"
      },
      "source": [
        "import torchvision.datasets as dset\r\n",
        "import torchvision.datasets.utils as dset_utils\r\n",
        "import torchvision.transforms as transforms\r\n",
        "import os\r\n",
        "import time\r\n",
        "import math\r\n",
        "import tensorflow as tf"
      ],
      "execution_count": 7,
      "outputs": []
    },
    {
      "cell_type": "code",
      "metadata": {
        "id": "kLRa-KjZE_3W"
      },
      "source": [
        "import torch\r\n",
        "from torch import nn\r\n",
        "import torchvision\r\n",
        "from torchsummary import summary\r\n",
        "import json \r\n",
        "import matplotlib.pyplot as plt\r\n",
        "import collections\r\n",
        "from PIL import Image\r\n",
        "import torchtext\r\n",
        "from torchtext.data.utils import get_tokenizer\r\n",
        "from collections import Counter\r\n",
        "from torchtext.vocab import Vocab\r\n",
        "from torch.nn.utils.rnn import pad_sequence\r\n",
        "from torch.utils.data import DataLoader\r\n",
        "import torch.optim as optim\r\n",
        "import random"
      ],
      "execution_count": 8,
      "outputs": []
    },
    {
      "cell_type": "code",
      "metadata": {
        "id": "6-WlBcZUGZuc",
        "colab": {
          "base_uri": "https://localhost:8080/",
          "height": 148,
          "referenced_widgets": [
            "37c8df90d8ce4717b1e534050ef92a48",
            "bdb125d0738b480ea1d96ba991b8762f",
            "0b539213677c4e979c7b09e1bf985f6f",
            "98900cbf83e34fc5a64d72556b36cf37",
            "53bc0f737d4f4cbcbaf73fe79ddcf074",
            "88f8ae217f2c4e308810b723750aeca7",
            "54ae0b1415a14e5ca6fb463f8da862b0",
            "0a876be96744426991aebb171758a147",
            "bab35b6647204c47b926f272e80c7dba",
            "27b502f90f3d40ce8ef914b5f4abf9e3",
            "a89550a7b1f34413bd1dad583b417c13",
            "df2df5b5dbb04c1baa3b1f534e0290e2",
            "481edd99d7cd42f2855b4b29302749ed",
            "c0f76dc1182b429f9ab6e057ed8f43bb",
            "29f6f4cbc06245b982a17096d30ef42c",
            "ac15d4f56bd04cecb51722248fd6a3ac"
          ]
        },
        "outputId": "80e7dcba-0c90-4fb7-e595-a6ca94b0781b"
      },
      "source": [
        "data_folder = os.path.join(os.path.abspath('.') + '/coco/')\n",
        "# Download and unzip annotations\n",
        "if not os.path.exists(data_folder):\n",
        "  dset_utils.download_and_extract_archive(url='http://images.cocodataset.org/annotations/annotations_trainval2014.zip',\n",
        "                                          download_root=data_folder,\n",
        "                                          extract_root=data_folder,\n",
        "                                          filename='captions.zip')\n",
        "  # Download and unzion images\n",
        "  dset_utils.download_and_extract_archive(url='http://images.cocodataset.org/zips/train2014.zip',\n",
        "                                          download_root=data_folder,\n",
        "                                          extract_root=data_folder,\n",
        "                                          filename='train2014.zip')"
      ],
      "execution_count": 9,
      "outputs": [
        {
          "output_type": "stream",
          "text": [
            "Downloading http://images.cocodataset.org/annotations/annotations_trainval2014.zip to /content/coco/captions.zip\n"
          ],
          "name": "stdout"
        },
        {
          "output_type": "display_data",
          "data": {
            "application/vnd.jupyter.widget-view+json": {
              "model_id": "37c8df90d8ce4717b1e534050ef92a48",
              "version_minor": 0,
              "version_major": 2
            },
            "text/plain": [
              "HBox(children=(FloatProgress(value=1.0, bar_style='info', max=1.0), HTML(value='')))"
            ]
          },
          "metadata": {
            "tags": []
          }
        },
        {
          "output_type": "stream",
          "text": [
            "Extracting /content/coco/captions.zip to /content/coco/\n",
            "Downloading http://images.cocodataset.org/zips/train2014.zip to /content/coco/train2014.zip\n"
          ],
          "name": "stdout"
        },
        {
          "output_type": "display_data",
          "data": {
            "application/vnd.jupyter.widget-view+json": {
              "model_id": "bab35b6647204c47b926f272e80c7dba",
              "version_minor": 0,
              "version_major": 2
            },
            "text/plain": [
              "HBox(children=(FloatProgress(value=1.0, bar_style='info', max=1.0), HTML(value='')))"
            ]
          },
          "metadata": {
            "tags": []
          }
        },
        {
          "output_type": "stream",
          "text": [
            "Extracting /content/coco/train2014.zip to /content/coco/\n"
          ],
          "name": "stdout"
        }
      ]
    },
    {
      "cell_type": "code",
      "metadata": {
        "id": "kmniZsp0GLdv"
      },
      "source": [
        "# Get path to file and delete zip file\r\n",
        "captions_train = os.path.join(data_folder, 'annotations/captions_train2014.json')\r\n",
        "images_train = os.path.join(data_folder, 'train2014/')\r\n",
        "captions_zip = os.path.join(data_folder, 'captions.zip')\r\n",
        "images_zip = os.path.join(data_folder, 'train2014.zip')\r\n",
        "if os.path.exists(captions_zip):\r\n",
        "  os.remove(captions_zip)\r\n",
        "if os.path.exists(images_zip):\r\n",
        "  os.remove(images_zip)"
      ],
      "execution_count": 10,
      "outputs": []
    },
    {
      "cell_type": "code",
      "metadata": {
        "id": "8kgQnHJVQj7k"
      },
      "source": [
        "# Setup device\r\n",
        "device = torch.device(\"cuda:0\" if torch.cuda.is_available() else \"cpu\")"
      ],
      "execution_count": 11,
      "outputs": []
    },
    {
      "cell_type": "code",
      "metadata": {
        "colab": {
          "base_uri": "https://localhost:8080/"
        },
        "id": "61GhXatKUDkX",
        "outputId": "af746522-cbdc-428f-b1c3-14e62cf97c30"
      },
      "source": [
        "image_preprocessor = transforms.Compose([\n",
        "    transforms.Resize(299),\n",
        "    transforms.CenterCrop(299),\n",
        "    transforms.ToTensor(),\n",
        "    transforms.Normalize(mean=[0.485, 0.456, 0.406], std=[0.229, 0.224, 0.225]),\n",
        "])\n",
        " \n",
        "coco_cap = dset.CocoCaptions(images_train, captions_train, transform=image_preprocessor)"
      ],
      "execution_count": 12,
      "outputs": [
        {
          "output_type": "stream",
          "text": [
            "loading annotations into memory...\n",
            "Done (t=1.50s)\n",
            "creating index...\n",
            "index created!\n"
          ],
          "name": "stdout"
        }
      ]
    },
    {
      "cell_type": "code",
      "metadata": {
        "id": "eq6tlXZt0htr"
      },
      "source": [
        "train_slice = int(len(coco_cap)*0.6)\r\n",
        "val_slice = int(len(coco_cap)*0.2)\r\n",
        "train_data, val_data, test_data = torch.utils.data.random_split(coco_cap,\r\n",
        "                                                                [train_slice, \r\n",
        "                                                                 val_slice,\r\n",
        "                                                                 len(coco_cap)-train_slice-val_slice])\r\n"
      ],
      "execution_count": 13,
      "outputs": []
    },
    {
      "cell_type": "code",
      "metadata": {
        "id": "Ut0yN3VV0WKu"
      },
      "source": [
        "# create dataloader for images in coco\r\n",
        "# image_loader = DataLoader(coco_cap, batch_size=10)\r\n",
        "# Loop throught images and save encoded features \r\n",
        "# encoder = Encoder()\r\n",
        "# encoder.cuda()\r\n",
        "# encoded_features = []\r\n",
        "# for id_batch, (img, caps) in enumerate(image_loader):\r\n",
        "#   encoded_batch = encoder(img.to(device))\r\n",
        "#   encoded_batch.to('cpu')\r\n",
        "#   encoded_features.append(encoded_batch)"
      ],
      "execution_count": 14,
      "outputs": []
    },
    {
      "cell_type": "code",
      "metadata": {
        "id": "LFfw8jBRPV5s"
      },
      "source": [
        "train_captions = []\r\n",
        "\r\n",
        "for img, caps in coco_cap:\r\n",
        "  train_captions.extend(caps)"
      ],
      "execution_count": 15,
      "outputs": []
    },
    {
      "cell_type": "code",
      "metadata": {
        "id": "x3u91Um7TtFR"
      },
      "source": [
        "# Building vocabulary for annotations\r\n",
        "tokenizer = get_tokenizer(\"basic_english\")\r\n",
        "def build_vocab(sentences, tokenizer):\r\n",
        "  counter = Counter()\r\n",
        "  for sen in sentences:\r\n",
        "    counter.update(tokenizer(sen))\r\n",
        "  return Vocab(counter, specials=['<unk>', '<pad>', '<bos>', '<eos>'])\r\n",
        "\r\n",
        "en_vocab = build_vocab(train_captions, tokenizer)"
      ],
      "execution_count": 16,
      "outputs": []
    },
    {
      "cell_type": "code",
      "metadata": {
        "id": "8MojU9lQbJux"
      },
      "source": [
        "# Building data loader \r\n",
        "# Define params\r\n",
        "BATCH_SIZE = 28\r\n",
        "PAD_IDX = en_vocab['<pad>']\r\n",
        "BOS_IDX = en_vocab['<bos>']\r\n",
        "EOS_IDX = en_vocab['<eos>']\r\n",
        "\r\n",
        "# process batch_data\r\n",
        "def batch_process(batch_data):\r\n",
        "  img_batch, cap_batch = [], []\r\n",
        "  for img, caps in batch_data:\r\n",
        "    img_batch.extend(img.repeat(len(caps),1,1,1))\r\n",
        "    for cap in caps:\r\n",
        "      sen_ids = torch.tensor([en_vocab[token] for token in tokenizer(cap)])\r\n",
        "      cap_batch.append(torch.cat([torch.tensor([BOS_IDX]), \r\n",
        "                                 sen_ids, \r\n",
        "                                 torch.tensor([EOS_IDX])], dim=0))\r\n",
        "  cap_batch = pad_sequence(cap_batch, batch_first=True, padding_value=PAD_IDX)\r\n",
        "\r\n",
        "  return torch.stack(img_batch), cap_batch\r\n",
        "\r\n",
        "train_iter = DataLoader(train_data, batch_size=BATCH_SIZE, collate_fn=batch_process)\r\n",
        "valid_iter = DataLoader(val_data, batch_size=BATCH_SIZE, collate_fn=batch_process)\r\n",
        "test_iter = DataLoader(test_data, batch_size=BATCH_SIZE, collate_fn=batch_process)"
      ],
      "execution_count": 17,
      "outputs": []
    },
    {
      "cell_type": "code",
      "metadata": {
        "id": "wUy74YyzAU7v"
      },
      "source": [
        "# Definition of main model\r\n",
        "# Begin with Encoder\r\n",
        "class Encoder(nn.Module):\r\n",
        "  \"\"\"\r\n",
        "    Encode image input using pre-trained Resnet152 model on imagenet\r\n",
        "  \"\"\"\r\n",
        "  def __init__(self):\r\n",
        "    super(Encoder, self).__init__()\r\n",
        "    resnet152 = torchvision.models.resnet152(pretrained=True)\r\n",
        "    # remove the last two layers and keep the last CNN output \r\n",
        "    modules = list(resnet152.children())[:-2] \r\n",
        "    self.res_encoder = nn.Sequential(*modules) # last output (batch_size, 2048, 10, 10)\r\n",
        "    # Flatten feature vector to (batch_size, 2048, 100)\r\n",
        "    self.flat_embed = nn.Flatten(start_dim=2)\r\n",
        "    \r\n",
        "\r\n",
        "  def forward(self, X_in):\r\n",
        "    \"\"\"\r\n",
        "      The forward pass of encoder \r\n",
        "      args:\r\n",
        "      - X_in: input data batch of size (batch, 3, Height, weight)\r\n",
        "      return: encoded images of size (batch, embed_size, 100)\r\n",
        "    \"\"\"\r\n",
        "    e_out = self.res_encoder(X_in) \r\n",
        "    # Flatten output vector to (batch_size, embedding_size, 100)\r\n",
        "    e_out = self.flat_embed(e_out)\r\n",
        "    # Change shape of output encoded to (batch_size, 100, embedding_dim)\r\n",
        "    e_out = e_out.permute(0, 2, 1)\r\n",
        "    return e_out\r\n",
        "    \r\n",
        "  "
      ],
      "execution_count": 18,
      "outputs": []
    },
    {
      "cell_type": "code",
      "metadata": {
        "id": "g1ZnU43UWZ3c"
      },
      "source": [
        "class BahdanauAttention(nn.Module):\r\n",
        "  \"\"\"\r\n",
        "    Define attention mechanism module on encoded image for genrating text\r\n",
        "  \"\"\"\r\n",
        "  def __init__(self, encoder_dim, hidden_size, attention_size):\r\n",
        "    \"\"\"\r\n",
        "      args: \r\n",
        "      - encoder_dim: size of encoded image (batch_size, 100, embedding_size(2048))\r\n",
        "      - hidden_size: size of hidden unit in decoder RNN \r\n",
        "      - attention_size: \r\n",
        "    \"\"\"\r\n",
        "    super(BahdanauAttention, self).__init__()\r\n",
        "    self.W1 = nn.Linear(encoder_dim, attention_size)   # size\r\n",
        "    self.W2 = nn.Linear(hidden_size, attention_size)\r\n",
        "    self.V = nn.Linear(attention_size, 1)\r\n",
        "    \r\n",
        "  def forward(self, encoded_feature, hidden):\r\n",
        "    \"\"\"\r\n",
        "      args:\r\n",
        "      - encoded_feature: \r\n",
        "    \"\"\"\r\n",
        "    # expand time dimension for hidden layer in decoder (batch_size, 1, hidden_size)\r\n",
        "    # Compute attenntion for hidden (batch_size, 100, attention_size)\r\n",
        "    attention_on_hidden = torch.tanh(self.W1(encoded_feature) + self.W2(hidden))\r\n",
        "    # attention score on attention (batch, 100, 1)\r\n",
        "    score = self.V(attention_on_hidden)\r\n",
        "    # compute attention weights \r\n",
        "    attention_weights = torch.softmax(score, dim=1)\r\n",
        "    context_vector = attention_weights*encoded_feature\r\n",
        "    context_vector = torch.sum(context_vector, dim=1)\r\n",
        "    \r\n",
        "    return context_vector, attention_weights\r\n",
        "    \r\n",
        "    "
      ],
      "execution_count": 19,
      "outputs": []
    },
    {
      "cell_type": "code",
      "metadata": {
        "id": "MAoP-fPiaDmI"
      },
      "source": [
        "torch.manual_seed(3)\n",
        "class DecoderWithAttention(nn.Module):\n",
        "  def __init__(self,\n",
        "               embedding_dim,\n",
        "               hidden_size,\n",
        "               vocab_size,\n",
        "               encoded_dim,\n",
        "               attention: nn.Module,\n",
        "               pretrained_embed=None):\n",
        "    super(DecoderWithAttention, self).__init__()\n",
        "    self.hidden_size = hidden_size\n",
        "    self.vocab_size = vocab_size\n",
        "    self.embedding_dim = embedding_dim\n",
        "    self.encoded_dim = encoded_dim\n",
        "    self.embedding = self.init_embedding(pretrained_embed)\n",
        "    self.gru_in = self.embedding_dim + self.encoded_dim\n",
        "    self.gru = nn.GRU(input_size=self.gru_in,\n",
        "                      hidden_size=self.hidden_size,\n",
        "                      batch_first=True)\n",
        "    self.fc1 = nn.Linear(self.hidden_size, self.hidden_size)\n",
        "    self.fc2 = nn.Linear(self.hidden_size, self.vocab_size)\n",
        "    \n",
        "    self.attention = attention\n",
        "    \n",
        "  def init_embedding(self, weight):\n",
        "    \"\"\"\n",
        "      if pretrained embedding exists then load from pretrained\n",
        "      else load from new one\n",
        "    \"\"\"\n",
        "    embedding = nn.Embedding(self.vocab_size, self.embedding_dim)\n",
        "    embedding.weight.data.uniform_(-0.1, 0.1)\n",
        "    if weight is not None:\n",
        "      embedding = nn.Embedding.from_pretrained(weight)\n",
        "    \n",
        "    return embedding\n",
        " \n",
        "  def forward(self, encoded_features, x, hidden):\n",
        "    \n",
        "    # get necessary size\n",
        "    batch_size = encoded_features.size(0)\n",
        "    # compute context vector and attention weights \n",
        "    # context_vector: (batch_size, visual_embedding_size(2048))\n",
        "    context_vector, atten_weights = self.attention(encoded_features, hidden.unsqueeze(1))\n",
        "    # embed token x to vector\n",
        "    # x: (batch, embedding_size)\n",
        "    x = self.embedding(x).unsqueeze(1)\n",
        "    # Concatinate context vector to input \n",
        "    x = torch.cat((x, context_vector.unsqueeze(1)), dim=-1)\n",
        "    # output size: (batch_size, sequence_len, hidden_size)\n",
        "    output, hn = self.gru(x, hidden.unsqueeze(0))\n",
        "    output = output.squeeze(1)\n",
        "    x = self.fc1(output)\n",
        "    # Change size to (batch_size*sequence_len, hidden_size)\n",
        "    x = x.view(-1, x.size()[-1])\n",
        "    x = self.fc2(x)\n",
        " \n",
        "    return x, hn.squeeze(0), atten_weights"
      ],
      "execution_count": 20,
      "outputs": []
    },
    {
      "cell_type": "code",
      "metadata": {
        "id": "RB18mQg7pXA9"
      },
      "source": [
        "class Captioning(nn.Module):\r\n",
        "  def __init__(self,\r\n",
        "               encoder: nn.Module,\r\n",
        "               decoder: nn.Module,\r\n",
        "               device: torch.device):\r\n",
        "    super().__init__()\r\n",
        "    self.encoder = encoder\r\n",
        "    self.decoder = decoder\r\n",
        "    self.device = device\r\n",
        "    \r\n",
        "  def forward(self, \r\n",
        "              img_src: torch.Tensor,\r\n",
        "              trg: torch.Tensor,\r\n",
        "              teacher_forc_rate: float=0.5):\r\n",
        "    batch_size = img_src.shape[0]\r\n",
        "    max_len = trg.shape[1]\r\n",
        "\r\n",
        "    trg_vocab_size = self.decoder.vocab_size\r\n",
        "\r\n",
        "    outputs = torch.zeros(batch_size, max_len, trg_vocab_size).to(self.device)\r\n",
        "    encoder_out = self.encoder(img_src)\r\n",
        "    hidden = self.init_hidden(batch_size).to(device)\r\n",
        "    output = trg[:, 0]\r\n",
        "    for t in range(1, max_len):\r\n",
        "      output, hidden, _ = self.decoder(encoder_out, output, hidden)\r\n",
        "      outputs[:,t,:] = output\r\n",
        "      teacher_force = random.random() < teacher_forc_rate \r\n",
        "      top = output.max(1)[1]\r\n",
        "      output = (trg[:,t] if teacher_force else top)\r\n",
        "      \r\n",
        "    return outputs\r\n",
        "\r\n",
        "  def init_hidden(self, batch_size):\r\n",
        "    w = torch.empty(batch_size, self.decoder.hidden_size)\r\n",
        "    return nn.init.xavier_uniform_(w, gain=nn.init.calculate_gain('relu'))"
      ],
      "execution_count": 21,
      "outputs": []
    },
    {
      "cell_type": "code",
      "metadata": {
        "id": "TOWhn9qwX2cf"
      },
      "source": [
        "# Define training parameters \r\n",
        "OUTPUT_DIM = len(en_vocab)\r\n",
        "EMB_DIM = 256\r\n",
        "HIDDEN_DIM = 512\r\n",
        "ATTEN_DIM = 512\r\n",
        "ENCODE_DIM = 2048"
      ],
      "execution_count": 22,
      "outputs": []
    },
    {
      "cell_type": "code",
      "metadata": {
        "id": "DmOYcHUBdmZl",
        "colab": {
          "base_uri": "https://localhost:8080/",
          "height": 82,
          "referenced_widgets": [
            "5f133a50a51640a9a34122e657810e4e",
            "75412b1e3a084ce9a606196db25d5978",
            "9f8ca7ce77114666a693dacdef3cbd6f",
            "15f9cf483bf84533989ff947b8e16ce8",
            "3b9a38dc58c24232984e87f0eb729b95",
            "b5866926ee2f4506980a02de31ebf2b7",
            "e910466520df477cb4844724d3dc8668",
            "01292e2a88a645d2bf36fcbf7d1163d2"
          ]
        },
        "outputId": "aac325b1-f518-4782-e3c3-4c0d47ff9bc5"
      },
      "source": [
        "encoder = Encoder()\r\n",
        "attention = BahdanauAttention(ENCODE_DIM, HIDDEN_DIM, ATTEN_DIM)\r\n",
        "decoder = DecoderWithAttention(EMB_DIM, HIDDEN_DIM, OUTPUT_DIM, ENCODE_DIM, attention)\r\n",
        "model = Captioning(encoder, decoder, device).to(device)"
      ],
      "execution_count": 23,
      "outputs": [
        {
          "output_type": "stream",
          "text": [
            "Downloading: \"https://download.pytorch.org/models/resnet152-b121ed2d.pth\" to /root/.cache/torch/hub/checkpoints/resnet152-b121ed2d.pth\n"
          ],
          "name": "stderr"
        },
        {
          "output_type": "display_data",
          "data": {
            "application/vnd.jupyter.widget-view+json": {
              "model_id": "5f133a50a51640a9a34122e657810e4e",
              "version_minor": 0,
              "version_major": 2
            },
            "text/plain": [
              "HBox(children=(FloatProgress(value=0.0, max=241530880.0), HTML(value='')))"
            ]
          },
          "metadata": {
            "tags": []
          }
        },
        {
          "output_type": "stream",
          "text": [
            "\n"
          ],
          "name": "stdout"
        }
      ]
    },
    {
      "cell_type": "code",
      "metadata": {
        "id": "FgSg6wxHwlqx"
      },
      "source": [
        "optimizer = optim.Adam(model.parameters())\r\n",
        "for param in encoder.parameters():\r\n",
        "  param.requires_grad = False"
      ],
      "execution_count": 24,
      "outputs": []
    },
    {
      "cell_type": "code",
      "metadata": {
        "id": "zsU8DApaKY0-"
      },
      "source": [
        "PAD_IDX = en_vocab.stoi['<pad>']\r\n",
        "loss_func = nn.CrossEntropyLoss(ignore_index=PAD_IDX)\r\n"
      ],
      "execution_count": 25,
      "outputs": []
    },
    {
      "cell_type": "code",
      "metadata": {
        "id": "UyzcR9nPK5IO"
      },
      "source": [
        "def train(model: nn.Module,\r\n",
        "          iterator: torch.utils.data.DataLoader,\r\n",
        "          optimizer: optim.Optimizer,\r\n",
        "          loss_func: nn.Module):\r\n",
        "\r\n",
        "  model.train()\r\n",
        "\r\n",
        "  epoch_loss = 0\r\n",
        "\r\n",
        "  for _, (img, trg) in enumerate(iterator):\r\n",
        "      img = img.to(device)\r\n",
        "      trg = trg.to(device)\r\n",
        "\r\n",
        "      optimizer.zero_grad()\r\n",
        "\r\n",
        "      output = model(img, trg)\r\n",
        "\r\n",
        "      output = output[:,1:,:].contiguous().view(-1, output.shape[-1])\r\n",
        "      trg = trg[:,1:].contiguous().view(-1)\r\n",
        "\r\n",
        "      loss = loss_func(output, trg)\r\n",
        "\r\n",
        "      loss.backward()\r\n",
        "\r\n",
        "      optimizer.step()\r\n",
        "\r\n",
        "      epoch_loss += loss.item()\r\n",
        "\r\n",
        "  return epoch_loss / len(iterator)\r\n",
        "\r\n",
        "def evaluate(model: nn.Module,\r\n",
        "             iterator: torch.utils.data.DataLoader,\r\n",
        "             loss_func: nn.Module):\r\n",
        "\r\n",
        "  model.eval()\r\n",
        "\r\n",
        "  epoch_loss = 0\r\n",
        "\r\n",
        "  with torch.no_grad():\r\n",
        "\r\n",
        "      for _, (src, trg) in enumerate(iterator):\r\n",
        "          src, trg = src.to(device), trg.to(device)\r\n",
        "\r\n",
        "          output = model(src, trg, 0) \r\n",
        "\r\n",
        "          output = output[1:].contiguous().view(-1, output.shape[-1])\r\n",
        "          trg = trg[1:].contiguous().view(-1)\r\n",
        "\r\n",
        "          loss = loss_func(output, trg)\r\n",
        "\r\n",
        "          epoch_loss += loss.item()\r\n",
        "\r\n",
        "  return epoch_loss / len(iterator)\r\n",
        "\r\n",
        "def epoch_time(start_time: int,\r\n",
        "               end_time: int):\r\n",
        "    elapsed_time = end_time - start_time\r\n",
        "    elapsed_mins = int(elapsed_time / 60)\r\n",
        "    elapsed_secs = int(elapsed_time - (elapsed_mins * 60))\r\n",
        "    return elapsed_mins, elapsed_secs\r\n"
      ],
      "execution_count": null,
      "outputs": []
    },
    {
      "cell_type": "code",
      "metadata": {
        "id": "WPVbn4ce-bAo"
      },
      "source": [
        "# define checkpoint info\r\n",
        "CKP_PATH = 'model.pt'\r\n"
      ],
      "execution_count": null,
      "outputs": []
    },
    {
      "cell_type": "code",
      "metadata": {
        "id": "r2EwMNAaMQEW",
        "colab": {
          "base_uri": "https://localhost:8080/"
        },
        "outputId": "171370cb-fa72-427d-f49e-17b7fd351d6f"
      },
      "source": [
        "N_EPOCHS = 15\n",
        " \n",
        "best_valid_loss = float('inf')\n",
        " \n",
        "for epoch in range(N_EPOCHS):\n",
        " \n",
        "    start_time = time.time()\n",
        " \n",
        "    train_loss = train(model, train_iter, optimizer, loss_func)\n",
        "    valid_loss = evaluate(model, valid_iter, loss_func)\n",
        "    if (epoch+1) % 5 == 0:\n",
        "      torch.save({\n",
        "        'epoch': epoch,\n",
        "        'model_state_dict': model.state_dict(),\n",
        "        'optimizer_state_dict': optimizer.state_dict(),\n",
        "        'loss': train_loss,\n",
        "        }, CKP_PATH)\n",
        "    end_time = time.time()\n",
        " \n",
        "    epoch_mins, epoch_secs = epoch_time(start_time, end_time)\n",
        " \n",
        "    print(f'Epoch: {epoch+1:02} | Time: {epoch_mins}m {epoch_secs}s')\n",
        "    print(f'\\tTrain Loss: {train_loss:.3f} | Train PPL: {math.exp(train_loss):7.3f}')\n",
        "    print(f'\\t Val. Loss: {valid_loss:.3f} |  Val. PPL: {math.exp(valid_loss):7.3f}')\n",
        " \n",
        "test_loss = evaluate(model, test_iter, loss_func)\n",
        " \n",
        "print(f'| Test Loss: {test_loss:.3f} | Test PPL: {math.exp(test_loss):7.3f} |')"
      ],
      "execution_count": null,
      "outputs": [
        {
          "output_type": "stream",
          "text": [
            "Epoch: 01 | Time: 52m 51s\n",
            "\tTrain Loss: 4.176 | Train PPL:  65.128\n",
            "\t Val. Loss: 4.954 |  Val. PPL: 141.772\n",
            "Epoch: 02 | Time: 51m 56s\n",
            "\tTrain Loss: 3.678 | Train PPL:  39.558\n",
            "\t Val. Loss: 4.968 |  Val. PPL: 143.732\n",
            "Epoch: 03 | Time: 52m 1s\n",
            "\tTrain Loss: 3.535 | Train PPL:  34.302\n",
            "\t Val. Loss: 4.981 |  Val. PPL: 145.610\n",
            "Epoch: 04 | Time: 51m 35s\n",
            "\tTrain Loss: 3.438 | Train PPL:  31.111\n",
            "\t Val. Loss: 4.881 |  Val. PPL: 131.811\n",
            "Epoch: 05 | Time: 51m 30s\n",
            "\tTrain Loss: 3.391 | Train PPL:  29.703\n",
            "\t Val. Loss: 4.950 |  Val. PPL: 141.239\n",
            "Epoch: 06 | Time: 51m 28s\n",
            "\tTrain Loss: 3.340 | Train PPL:  28.232\n",
            "\t Val. Loss: 4.994 |  Val. PPL: 147.593\n",
            "Epoch: 07 | Time: 51m 41s\n",
            "\tTrain Loss: 3.291 | Train PPL:  26.879\n",
            "\t Val. Loss: 4.991 |  Val. PPL: 147.102\n",
            "Epoch: 08 | Time: 51m 43s\n",
            "\tTrain Loss: 3.266 | Train PPL:  26.199\n",
            "\t Val. Loss: 4.977 |  Val. PPL: 145.054\n",
            "Epoch: 09 | Time: 51m 44s\n",
            "\tTrain Loss: 3.239 | Train PPL:  25.506\n",
            "\t Val. Loss: 5.008 |  Val. PPL: 149.610\n",
            "Epoch: 10 | Time: 51m 58s\n",
            "\tTrain Loss: 3.222 | Train PPL:  25.078\n",
            "\t Val. Loss: 4.965 |  Val. PPL: 143.244\n",
            "Epoch: 11 | Time: 52m 4s\n",
            "\tTrain Loss: 3.205 | Train PPL:  24.654\n",
            "\t Val. Loss: 5.019 |  Val. PPL: 151.286\n",
            "Epoch: 12 | Time: 51m 59s\n",
            "\tTrain Loss: 3.181 | Train PPL:  24.059\n",
            "\t Val. Loss: 4.923 |  Val. PPL: 137.427\n",
            "Epoch: 13 | Time: 52m 13s\n",
            "\tTrain Loss: 3.161 | Train PPL:  23.605\n",
            "\t Val. Loss: 5.004 |  Val. PPL: 149.077\n",
            "Epoch: 14 | Time: 52m 15s\n",
            "\tTrain Loss: 3.157 | Train PPL:  23.498\n",
            "\t Val. Loss: 5.046 |  Val. PPL: 155.387\n",
            "Epoch: 15 | Time: 52m 12s\n",
            "\tTrain Loss: 3.149 | Train PPL:  23.324\n",
            "\t Val. Loss: 5.012 |  Val. PPL: 150.255\n",
            "| Test Loss: 5.004 | Test PPL: 149.038 |\n"
          ],
          "name": "stdout"
        }
      ]
    },
    {
      "cell_type": "code",
      "metadata": {
        "colab": {
          "base_uri": "https://localhost:8080/"
        },
        "id": "Xf1_axYxKAnL",
        "outputId": "022f23c8-d9b9-41fa-bd7f-79321f7362e8"
      },
      "source": [
        "test_loss = evaluate(model, test_iter, loss_func)\r\n",
        " \r\n",
        "print(f'| Test Loss: {test_loss:.3f} | Test PPL: {math.exp(test_loss):7.3f} |')"
      ],
      "execution_count": null,
      "outputs": [
        {
          "output_type": "stream",
          "text": [
            "| Test Loss: 5.005 | Test PPL: 149.118 |\n"
          ],
          "name": "stdout"
        }
      ]
    },
    {
      "cell_type": "code",
      "metadata": {
        "id": "6D87DgAWZXq3"
      },
      "source": [
        "# find max length\r\n",
        "max_len = 0\r\n",
        "for idx, (src, targ) in enumerate(train_iter):\r\n",
        "  max_len = len(targ)\r\n",
        "  break\r\n",
        "\r\n",
        "def predict(image):\r\n",
        "\r\n",
        "  trg_vocab_size = decoder.vocab_size\r\n",
        "  hidden = model.init_hidden(1).to(device)\r\n",
        "  result = []\r\n",
        "  output = torch.tensor(BOS_IDX).unsqueeze(0).to(device)\r\n",
        "  encoder_out = encoder(image.unsqueeze(0).to(device))\r\n",
        "  for t in range(1, max_len):\r\n",
        "    output, hidden, _ = decoder(encoder_out, output, hidden)\r\n",
        "    output = output.max(1)[1]\r\n",
        "    result.append(en_vocab.itos[output])\r\n",
        "    if en_vocab.itos[output] == '<eos>':\r\n",
        "      return result\r\n",
        "    \r\n",
        "  return result\r\n"
      ],
      "execution_count": 54,
      "outputs": []
    },
    {
      "cell_type": "code",
      "metadata": {
        "id": "UePmZ1Hn0Hre"
      },
      "source": [
        "!pip install -U -q PyDrive\r\n",
        "from pydrive.auth import GoogleAuth\r\n",
        "from pydrive.drive import GoogleDrive\r\n",
        "from google.colab import auth\r\n",
        "from oauth2client.client import GoogleCredentials\r\n",
        "\r\n",
        "# 1. Authenticate and create the PyDrive client.\r\n",
        "auth.authenticate_user()\r\n",
        "gauth = GoogleAuth()\r\n",
        "gauth.credentials = GoogleCredentials.get_application_default()\r\n",
        "drive = GoogleDrive(gauth)"
      ],
      "execution_count": 65,
      "outputs": []
    },
    {
      "cell_type": "code",
      "metadata": {
        "id": "7bMl0r7j2LrT"
      },
      "source": [
        "# Load data from google drive\r\n",
        "file_List = drive.ListFile({\r\n",
        "      'q':\"'1GGvjqKP7k5M095qsLfR_mWnvwH92P4kG' in parents and trashed=false\"\r\n",
        "      }).GetList()\r\n",
        "# for file in file_List:\r\n",
        "#   print('title: %s, id: %s' % (file['title'], file['id']))"
      ],
      "execution_count": 4,
      "outputs": []
    },
    {
      "cell_type": "code",
      "metadata": {
        "id": "3x-5wDcxW701"
      },
      "source": [
        "ck_point = drive.CreateFile({'id': '1FJucGg1trXND4RXAs15RdlVSDRPYlYw7', 'name': 'model.pt'})\r\n",
        "ck_point.GetContentFile('model.pt')"
      ],
      "execution_count": 5,
      "outputs": []
    },
    {
      "cell_type": "code",
      "metadata": {
        "id": "lWL-jTGwifkF"
      },
      "source": [
        "def load_model(ck_link, model):\r\n",
        "  checkpoint = torch.load(ck_link)\r\n",
        "  model.load_state_dict(checkpoint['model_state_dict'])\r\n",
        "  optimizer.load_state_dict(checkpoint['optimizer_state_dict'])\r\n",
        "  epoch = checkpoint['epoch']\r\n",
        "  loss = checkpoint['loss']"
      ],
      "execution_count": 26,
      "outputs": []
    },
    {
      "cell_type": "code",
      "metadata": {
        "id": "8IKRnH282vVi"
      },
      "source": [
        "def predict_url(image_url):\r\n",
        "  image_url = 'https://tensorflow.org/images/surf.jpg'\r\n",
        "  image_extension = image_url[-4:]\r\n",
        "  image_path = tf.keras.utils.get_file('image'+image_extension,\r\n",
        "                                      origin=image_url) \r\n",
        "  image = Image.open(image_path).convert('RGB')\r\n",
        "  image = image_preprocessor(image)\r\n",
        "  result = predict(image)\r\n",
        "  result"
      ],
      "execution_count": 67,
      "outputs": []
    },
    {
      "cell_type": "code",
      "metadata": {
        "id": "BKffcHIj21TR"
      },
      "source": [
        ""
      ],
      "execution_count": null,
      "outputs": []
    }
  ]
}