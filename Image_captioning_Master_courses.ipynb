{
  "nbformat": 4,
  "nbformat_minor": 0,
  "metadata": {
    "colab": {
      "name": "Image captioning - Master courses.ipynb",
      "provenance": [],
      "collapsed_sections": [],
      "authorship_tag": "ABX9TyNsD74Zpx9ocm4/8X2TFwLx",
      "include_colab_link": true
    },
    "kernelspec": {
      "display_name": "Python 3",
      "name": "python3"
    },
    "widgets": {
      "application/vnd.jupyter.widget-state+json": {
        "9a63cb1ca0fb400f946864ab54f36aeb": {
          "model_module": "@jupyter-widgets/controls",
          "model_name": "HBoxModel",
          "state": {
            "_view_name": "HBoxView",
            "_dom_classes": [],
            "_model_name": "HBoxModel",
            "_view_module": "@jupyter-widgets/controls",
            "_model_module_version": "1.5.0",
            "_view_count": null,
            "_view_module_version": "1.5.0",
            "box_style": "",
            "layout": "IPY_MODEL_573866a02149430b89dee4557aeab79b",
            "_model_module": "@jupyter-widgets/controls",
            "children": [
              "IPY_MODEL_9d9f4ef4486442968b91ecc6cae35dd8",
              "IPY_MODEL_4ef83eec420c40abb7c7bb3e9858ddc0"
            ]
          }
        },
        "573866a02149430b89dee4557aeab79b": {
          "model_module": "@jupyter-widgets/base",
          "model_name": "LayoutModel",
          "state": {
            "_view_name": "LayoutView",
            "grid_template_rows": null,
            "right": null,
            "justify_content": null,
            "_view_module": "@jupyter-widgets/base",
            "overflow": null,
            "_model_module_version": "1.2.0",
            "_view_count": null,
            "flex_flow": null,
            "width": null,
            "min_width": null,
            "border": null,
            "align_items": null,
            "bottom": null,
            "_model_module": "@jupyter-widgets/base",
            "top": null,
            "grid_column": null,
            "overflow_y": null,
            "overflow_x": null,
            "grid_auto_flow": null,
            "grid_area": null,
            "grid_template_columns": null,
            "flex": null,
            "_model_name": "LayoutModel",
            "justify_items": null,
            "grid_row": null,
            "max_height": null,
            "align_content": null,
            "visibility": null,
            "align_self": null,
            "height": null,
            "min_height": null,
            "padding": null,
            "grid_auto_rows": null,
            "grid_gap": null,
            "max_width": null,
            "order": null,
            "_view_module_version": "1.2.0",
            "grid_template_areas": null,
            "object_position": null,
            "object_fit": null,
            "grid_auto_columns": null,
            "margin": null,
            "display": null,
            "left": null
          }
        },
        "9d9f4ef4486442968b91ecc6cae35dd8": {
          "model_module": "@jupyter-widgets/controls",
          "model_name": "FloatProgressModel",
          "state": {
            "_view_name": "ProgressView",
            "style": "IPY_MODEL_b4ac4eb9763a4fef9dd72e2ff63f8238",
            "_dom_classes": [],
            "description": "",
            "_model_name": "FloatProgressModel",
            "bar_style": "info",
            "max": 1,
            "_view_module": "@jupyter-widgets/controls",
            "_model_module_version": "1.5.0",
            "value": 1,
            "_view_count": null,
            "_view_module_version": "1.5.0",
            "orientation": "horizontal",
            "min": 0,
            "description_tooltip": null,
            "_model_module": "@jupyter-widgets/controls",
            "layout": "IPY_MODEL_61977c2dcc8b4ea2b3dfc8cfe2b5d970"
          }
        },
        "4ef83eec420c40abb7c7bb3e9858ddc0": {
          "model_module": "@jupyter-widgets/controls",
          "model_name": "HTMLModel",
          "state": {
            "_view_name": "HTMLView",
            "style": "IPY_MODEL_e002708a9c6d48deb5392524512ded21",
            "_dom_classes": [],
            "description": "",
            "_model_name": "HTMLModel",
            "placeholder": "​",
            "_view_module": "@jupyter-widgets/controls",
            "_model_module_version": "1.5.0",
            "value": " 252878848/? [00:20&lt;00:00, 64651417.16it/s]",
            "_view_count": null,
            "_view_module_version": "1.5.0",
            "description_tooltip": null,
            "_model_module": "@jupyter-widgets/controls",
            "layout": "IPY_MODEL_34c2d159b41d4f7f8940fcd0bc04af04"
          }
        },
        "b4ac4eb9763a4fef9dd72e2ff63f8238": {
          "model_module": "@jupyter-widgets/controls",
          "model_name": "ProgressStyleModel",
          "state": {
            "_view_name": "StyleView",
            "_model_name": "ProgressStyleModel",
            "description_width": "initial",
            "_view_module": "@jupyter-widgets/base",
            "_model_module_version": "1.5.0",
            "_view_count": null,
            "_view_module_version": "1.2.0",
            "bar_color": null,
            "_model_module": "@jupyter-widgets/controls"
          }
        },
        "61977c2dcc8b4ea2b3dfc8cfe2b5d970": {
          "model_module": "@jupyter-widgets/base",
          "model_name": "LayoutModel",
          "state": {
            "_view_name": "LayoutView",
            "grid_template_rows": null,
            "right": null,
            "justify_content": null,
            "_view_module": "@jupyter-widgets/base",
            "overflow": null,
            "_model_module_version": "1.2.0",
            "_view_count": null,
            "flex_flow": null,
            "width": null,
            "min_width": null,
            "border": null,
            "align_items": null,
            "bottom": null,
            "_model_module": "@jupyter-widgets/base",
            "top": null,
            "grid_column": null,
            "overflow_y": null,
            "overflow_x": null,
            "grid_auto_flow": null,
            "grid_area": null,
            "grid_template_columns": null,
            "flex": null,
            "_model_name": "LayoutModel",
            "justify_items": null,
            "grid_row": null,
            "max_height": null,
            "align_content": null,
            "visibility": null,
            "align_self": null,
            "height": null,
            "min_height": null,
            "padding": null,
            "grid_auto_rows": null,
            "grid_gap": null,
            "max_width": null,
            "order": null,
            "_view_module_version": "1.2.0",
            "grid_template_areas": null,
            "object_position": null,
            "object_fit": null,
            "grid_auto_columns": null,
            "margin": null,
            "display": null,
            "left": null
          }
        },
        "e002708a9c6d48deb5392524512ded21": {
          "model_module": "@jupyter-widgets/controls",
          "model_name": "DescriptionStyleModel",
          "state": {
            "_view_name": "StyleView",
            "_model_name": "DescriptionStyleModel",
            "description_width": "",
            "_view_module": "@jupyter-widgets/base",
            "_model_module_version": "1.5.0",
            "_view_count": null,
            "_view_module_version": "1.2.0",
            "_model_module": "@jupyter-widgets/controls"
          }
        },
        "34c2d159b41d4f7f8940fcd0bc04af04": {
          "model_module": "@jupyter-widgets/base",
          "model_name": "LayoutModel",
          "state": {
            "_view_name": "LayoutView",
            "grid_template_rows": null,
            "right": null,
            "justify_content": null,
            "_view_module": "@jupyter-widgets/base",
            "overflow": null,
            "_model_module_version": "1.2.0",
            "_view_count": null,
            "flex_flow": null,
            "width": null,
            "min_width": null,
            "border": null,
            "align_items": null,
            "bottom": null,
            "_model_module": "@jupyter-widgets/base",
            "top": null,
            "grid_column": null,
            "overflow_y": null,
            "overflow_x": null,
            "grid_auto_flow": null,
            "grid_area": null,
            "grid_template_columns": null,
            "flex": null,
            "_model_name": "LayoutModel",
            "justify_items": null,
            "grid_row": null,
            "max_height": null,
            "align_content": null,
            "visibility": null,
            "align_self": null,
            "height": null,
            "min_height": null,
            "padding": null,
            "grid_auto_rows": null,
            "grid_gap": null,
            "max_width": null,
            "order": null,
            "_view_module_version": "1.2.0",
            "grid_template_areas": null,
            "object_position": null,
            "object_fit": null,
            "grid_auto_columns": null,
            "margin": null,
            "display": null,
            "left": null
          }
        },
        "38eb0988685846f9b0c743b4a040e883": {
          "model_module": "@jupyter-widgets/controls",
          "model_name": "HBoxModel",
          "state": {
            "_view_name": "HBoxView",
            "_dom_classes": [],
            "_model_name": "HBoxModel",
            "_view_module": "@jupyter-widgets/controls",
            "_model_module_version": "1.5.0",
            "_view_count": null,
            "_view_module_version": "1.5.0",
            "box_style": "",
            "layout": "IPY_MODEL_f5b16fa8d667419694e2e1feb92755dd",
            "_model_module": "@jupyter-widgets/controls",
            "children": [
              "IPY_MODEL_65638cf5337f43ed9fe4b69b442d593a",
              "IPY_MODEL_150b0639887d423fb910e6f4174078d9"
            ]
          }
        },
        "f5b16fa8d667419694e2e1feb92755dd": {
          "model_module": "@jupyter-widgets/base",
          "model_name": "LayoutModel",
          "state": {
            "_view_name": "LayoutView",
            "grid_template_rows": null,
            "right": null,
            "justify_content": null,
            "_view_module": "@jupyter-widgets/base",
            "overflow": null,
            "_model_module_version": "1.2.0",
            "_view_count": null,
            "flex_flow": null,
            "width": null,
            "min_width": null,
            "border": null,
            "align_items": null,
            "bottom": null,
            "_model_module": "@jupyter-widgets/base",
            "top": null,
            "grid_column": null,
            "overflow_y": null,
            "overflow_x": null,
            "grid_auto_flow": null,
            "grid_area": null,
            "grid_template_columns": null,
            "flex": null,
            "_model_name": "LayoutModel",
            "justify_items": null,
            "grid_row": null,
            "max_height": null,
            "align_content": null,
            "visibility": null,
            "align_self": null,
            "height": null,
            "min_height": null,
            "padding": null,
            "grid_auto_rows": null,
            "grid_gap": null,
            "max_width": null,
            "order": null,
            "_view_module_version": "1.2.0",
            "grid_template_areas": null,
            "object_position": null,
            "object_fit": null,
            "grid_auto_columns": null,
            "margin": null,
            "display": null,
            "left": null
          }
        },
        "65638cf5337f43ed9fe4b69b442d593a": {
          "model_module": "@jupyter-widgets/controls",
          "model_name": "FloatProgressModel",
          "state": {
            "_view_name": "ProgressView",
            "style": "IPY_MODEL_6349745ece1043119804ebfb8022c949",
            "_dom_classes": [],
            "description": "",
            "_model_name": "FloatProgressModel",
            "bar_style": "info",
            "max": 1,
            "_view_module": "@jupyter-widgets/controls",
            "_model_module_version": "1.5.0",
            "value": 1,
            "_view_count": null,
            "_view_module_version": "1.5.0",
            "orientation": "horizontal",
            "min": 0,
            "description_tooltip": null,
            "_model_module": "@jupyter-widgets/controls",
            "layout": "IPY_MODEL_9932ee51b8894acd9a0c2d40104a55b1"
          }
        },
        "150b0639887d423fb910e6f4174078d9": {
          "model_module": "@jupyter-widgets/controls",
          "model_name": "HTMLModel",
          "state": {
            "_view_name": "HTMLView",
            "style": "IPY_MODEL_e3cb262691464e37a1e28843903ffa85",
            "_dom_classes": [],
            "description": "",
            "_model_name": "HTMLModel",
            "placeholder": "​",
            "_view_module": "@jupyter-widgets/controls",
            "_model_module_version": "1.5.0",
            "value": " 13510574080/? [03:49&lt;00:00, 56138436.09it/s]",
            "_view_count": null,
            "_view_module_version": "1.5.0",
            "description_tooltip": null,
            "_model_module": "@jupyter-widgets/controls",
            "layout": "IPY_MODEL_ae5c959e45ac4a92a32fab8c7fe7ade1"
          }
        },
        "6349745ece1043119804ebfb8022c949": {
          "model_module": "@jupyter-widgets/controls",
          "model_name": "ProgressStyleModel",
          "state": {
            "_view_name": "StyleView",
            "_model_name": "ProgressStyleModel",
            "description_width": "initial",
            "_view_module": "@jupyter-widgets/base",
            "_model_module_version": "1.5.0",
            "_view_count": null,
            "_view_module_version": "1.2.0",
            "bar_color": null,
            "_model_module": "@jupyter-widgets/controls"
          }
        },
        "9932ee51b8894acd9a0c2d40104a55b1": {
          "model_module": "@jupyter-widgets/base",
          "model_name": "LayoutModel",
          "state": {
            "_view_name": "LayoutView",
            "grid_template_rows": null,
            "right": null,
            "justify_content": null,
            "_view_module": "@jupyter-widgets/base",
            "overflow": null,
            "_model_module_version": "1.2.0",
            "_view_count": null,
            "flex_flow": null,
            "width": null,
            "min_width": null,
            "border": null,
            "align_items": null,
            "bottom": null,
            "_model_module": "@jupyter-widgets/base",
            "top": null,
            "grid_column": null,
            "overflow_y": null,
            "overflow_x": null,
            "grid_auto_flow": null,
            "grid_area": null,
            "grid_template_columns": null,
            "flex": null,
            "_model_name": "LayoutModel",
            "justify_items": null,
            "grid_row": null,
            "max_height": null,
            "align_content": null,
            "visibility": null,
            "align_self": null,
            "height": null,
            "min_height": null,
            "padding": null,
            "grid_auto_rows": null,
            "grid_gap": null,
            "max_width": null,
            "order": null,
            "_view_module_version": "1.2.0",
            "grid_template_areas": null,
            "object_position": null,
            "object_fit": null,
            "grid_auto_columns": null,
            "margin": null,
            "display": null,
            "left": null
          }
        },
        "e3cb262691464e37a1e28843903ffa85": {
          "model_module": "@jupyter-widgets/controls",
          "model_name": "DescriptionStyleModel",
          "state": {
            "_view_name": "StyleView",
            "_model_name": "DescriptionStyleModel",
            "description_width": "",
            "_view_module": "@jupyter-widgets/base",
            "_model_module_version": "1.5.0",
            "_view_count": null,
            "_view_module_version": "1.2.0",
            "_model_module": "@jupyter-widgets/controls"
          }
        },
        "ae5c959e45ac4a92a32fab8c7fe7ade1": {
          "model_module": "@jupyter-widgets/base",
          "model_name": "LayoutModel",
          "state": {
            "_view_name": "LayoutView",
            "grid_template_rows": null,
            "right": null,
            "justify_content": null,
            "_view_module": "@jupyter-widgets/base",
            "overflow": null,
            "_model_module_version": "1.2.0",
            "_view_count": null,
            "flex_flow": null,
            "width": null,
            "min_width": null,
            "border": null,
            "align_items": null,
            "bottom": null,
            "_model_module": "@jupyter-widgets/base",
            "top": null,
            "grid_column": null,
            "overflow_y": null,
            "overflow_x": null,
            "grid_auto_flow": null,
            "grid_area": null,
            "grid_template_columns": null,
            "flex": null,
            "_model_name": "LayoutModel",
            "justify_items": null,
            "grid_row": null,
            "max_height": null,
            "align_content": null,
            "visibility": null,
            "align_self": null,
            "height": null,
            "min_height": null,
            "padding": null,
            "grid_auto_rows": null,
            "grid_gap": null,
            "max_width": null,
            "order": null,
            "_view_module_version": "1.2.0",
            "grid_template_areas": null,
            "object_position": null,
            "object_fit": null,
            "grid_auto_columns": null,
            "margin": null,
            "display": null,
            "left": null
          }
        }
      }
    }
  },
  "cells": [
    {
      "cell_type": "markdown",
      "metadata": {
        "id": "view-in-github",
        "colab_type": "text"
      },
      "source": [
        "<a href=\"https://colab.research.google.com/github/yscope75/CS2225.CH2001020/blob/master/Image_captioning_Master_courses.ipynb\" target=\"_parent\"><img src=\"https://colab.research.google.com/assets/colab-badge.svg\" alt=\"Open In Colab\"/></a>"
      ]
    },
    {
      "cell_type": "code",
      "metadata": {
        "id": "p8ekI-u73s7H"
      },
      "source": [
        "import torchvision.datasets as dset\r\n",
        "import torchvision.datasets.utils as dset_utils\r\n",
        "import torchvision.transforms as transforms\r\n",
        "import os"
      ],
      "execution_count": 1,
      "outputs": []
    },
    {
      "cell_type": "code",
      "metadata": {
        "id": "kLRa-KjZE_3W"
      },
      "source": [
        "import torch\r\n",
        "from torch import nn\r\n",
        "import torchvision\r\n",
        "from torchsummary import summary"
      ],
      "execution_count": 2,
      "outputs": []
    },
    {
      "cell_type": "code",
      "metadata": {
        "colab": {
          "base_uri": "https://localhost:8080/",
          "height": 168,
          "referenced_widgets": [
            "9a63cb1ca0fb400f946864ab54f36aeb",
            "573866a02149430b89dee4557aeab79b",
            "9d9f4ef4486442968b91ecc6cae35dd8",
            "4ef83eec420c40abb7c7bb3e9858ddc0",
            "b4ac4eb9763a4fef9dd72e2ff63f8238",
            "61977c2dcc8b4ea2b3dfc8cfe2b5d970",
            "e002708a9c6d48deb5392524512ded21",
            "34c2d159b41d4f7f8940fcd0bc04af04",
            "38eb0988685846f9b0c743b4a040e883",
            "f5b16fa8d667419694e2e1feb92755dd",
            "65638cf5337f43ed9fe4b69b442d593a",
            "150b0639887d423fb910e6f4174078d9",
            "6349745ece1043119804ebfb8022c949",
            "9932ee51b8894acd9a0c2d40104a55b1",
            "e3cb262691464e37a1e28843903ffa85",
            "ae5c959e45ac4a92a32fab8c7fe7ade1"
          ]
        },
        "id": "6-WlBcZUGZuc",
        "outputId": "6ef74176-abc3-4633-adb0-36f867ad4f6c"
      },
      "source": [
        "annotation_folder = os.path.join(os.path.abspath('.') + '/coco/annotations/')\r\n",
        "image_folder = os.path.join(os.path.abspath('.') + '/coco/train2014/')\r\n",
        "# Download and unzip annotations \r\n",
        "dset_utils.download_and_extract_archive(url='http://images.cocodataset.org/annotations/annotations_trainval2014.zip',\r\n",
        "                                        download_root=annotation_folder,\r\n",
        "                                        extract_root=annotation_folder,\r\n",
        "                                        filename='captions.zip')\r\n",
        "# Download and unzion images\r\n",
        "dset_utils.download_and_extract_archive(url='http://images.cocodataset.org/zips/train2014.zip',\r\n",
        "                                        download_root=image_folder,\r\n",
        "                                        extract_root=image_folder,\r\n",
        "                                        filename='train2014.zip')"
      ],
      "execution_count": 3,
      "outputs": [
        {
          "output_type": "stream",
          "text": [
            "Downloading http://images.cocodataset.org/annotations/annotations_trainval2014.zip to /content/coco/annotations/captions.zip\n"
          ],
          "name": "stdout"
        },
        {
          "output_type": "display_data",
          "data": {
            "application/vnd.jupyter.widget-view+json": {
              "model_id": "9a63cb1ca0fb400f946864ab54f36aeb",
              "version_minor": 0,
              "version_major": 2
            },
            "text/plain": [
              "HBox(children=(FloatProgress(value=1.0, bar_style='info', max=1.0), HTML(value='')))"
            ]
          },
          "metadata": {
            "tags": []
          }
        },
        {
          "output_type": "stream",
          "text": [
            "Extracting /content/coco/annotations/captions.zip to /content/coco/annotations/\n",
            "Downloading http://images.cocodataset.org/zips/train2014.zip to /content/coco/train2014/train2014.zip\n"
          ],
          "name": "stdout"
        },
        {
          "output_type": "display_data",
          "data": {
            "application/vnd.jupyter.widget-view+json": {
              "model_id": "38eb0988685846f9b0c743b4a040e883",
              "version_minor": 0,
              "version_major": 2
            },
            "text/plain": [
              "HBox(children=(FloatProgress(value=1.0, bar_style='info', max=1.0), HTML(value='')))"
            ]
          },
          "metadata": {
            "tags": []
          }
        },
        {
          "output_type": "stream",
          "text": [
            "Extracting /content/coco/train2014/train2014.zip to /content/coco/train2014/\n"
          ],
          "name": "stdout"
        }
      ]
    },
    {
      "cell_type": "code",
      "metadata": {
        "id": "8kgQnHJVQj7k"
      },
      "source": [
        "# Setup device\r\n",
        "device = torch.device(\"cuda:0\" if torch.cuda.is_available() else \"cpu\")"
      ],
      "execution_count": 4,
      "outputs": []
    },
    {
      "cell_type": "code",
      "metadata": {
        "id": "wUy74YyzAU7v"
      },
      "source": [
        "# Definition of main model\r\n",
        "# Begin with Encoder\r\n",
        "class Encoder(nn.Module):\r\n",
        "  \"\"\"\r\n",
        "    Encode image input using pre-trained Resnet152 model on imagenet\r\n",
        "  \"\"\"\r\n",
        "  def __init__(self):\r\n",
        "    super(Encoder, self).__init__()\r\n",
        "    resnet152 = torchvision.models.resnet152(pretrained=True)\r\n",
        "    # remove the last two layers and keep the last CNN output \r\n",
        "    modules = list(resnet152.children())[:-2] \r\n",
        "    self.res_encoder = nn.Sequential(*modules) # last output (batch_size, 2048, 8, 8)\r\n",
        "    # Flatten feature vector to (batch_size, 2048, 64)\r\n",
        "    self.flat_embed = nn.Flatten(start_dim=2)\r\n",
        "    # normalize variable input size to encoded size using adaptive pooling\r\n",
        "    \r\n",
        "\r\n",
        "  def forward(self, X_in):\r\n",
        "    \"\"\"\r\n",
        "      The forward pass of encoder \r\n",
        "      args:\r\n",
        "      - X_in: input data batch of size (batch, 3, Height, weight)\r\n",
        "      return: encoded images of size (batch, embed_size, 64)\r\n",
        "    \"\"\"\r\n",
        "    e_out = self.res_encoder(X_in) \r\n",
        "    # Flatten output vector to (batch_size, embedding_size, 64)\r\n",
        "    e_out = self.flat_embed(e_out)\r\n",
        "    # Change shape of output encoded to (batch_size, 64, embedding_dim)\r\n",
        "    e_out = e_out.permute(0, 2, 1)\r\n",
        "    return out\r\n",
        "    \r\n",
        "  "
      ],
      "execution_count": 6,
      "outputs": []
    },
    {
      "cell_type": "code",
      "metadata": {
        "id": "g1ZnU43UWZ3c"
      },
      "source": [
        "class BahdanauAttention(nn.Module):\r\n",
        "  \"\"\"\r\n",
        "    Define attention mechanism module on encoded image for genrating text\r\n",
        "  \"\"\"\r\n",
        "  def __init__(self, encoder_dim, hidden_size, attention_size):\r\n",
        "    \"\"\"\r\n",
        "      args: \r\n",
        "      - encoder_dim: size of encoded image (batch_size, 64, embedding_size(2048))\r\n",
        "      - hidden_size: size of hidden unit in decoder RNN \r\n",
        "      - attention_size: \r\n",
        "    \"\"\"\r\n",
        "    super(BahdanauAttention, self).__init__()\r\n",
        "    self.W1 = nn.Linear(encoder_dim, attention_size)   # size\r\n",
        "    self.W2 = nn.Linear(hidden_size, attention_size)\r\n",
        "    self.V = nn.Linear(attentions_size, 1)\r\n",
        "    \r\n",
        "    def forward(self, encoded_feature, hidden):\r\n",
        "      \"\"\"\r\n",
        "        args:\r\n",
        "        - encoded_feature: \r\n",
        "      \"\"\"\r\n",
        "      # expand time dimension for hidden layer in decoder (batch_size, 1, hidden_size)\r\n",
        "      hidden_with_time = torch.unsqueeze(hidden, dim=1)\r\n",
        "      # Compute attenntion for hidden (batch_size, 64, attention_size)\r\n",
        "      attention_on_hidden = torch.tanh(self.w1(encoded_feature) + self.W2(hidden))\r\n",
        "      # attention score on attention (batch, 64, 1)\r\n",
        "      score = self.V(attention_on_hidden)\r\n",
        "      # compute attention weights \r\n",
        "      attention_weights = torch.softmax(score, dim=1)\r\n",
        "      context_vector = attention_weights*encoded_feature\r\n",
        "      context_vector = torch.sum(context_vector, dim=1)\r\n",
        "      \r\n",
        "      return context_vector, attention_weights\r\n",
        "    \r\n",
        "    "
      ],
      "execution_count": 7,
      "outputs": []
    },
    {
      "cell_type": "code",
      "metadata": {
        "id": "MAoP-fPiaDmI"
      },
      "source": [
        "torch.manual_seed(3)\r\n",
        "class DecoderWithAttention(nn.Module):\r\n",
        "  def __init__(self,\r\n",
        "               embedding_dim,\r\n",
        "               hidden_size,\r\n",
        "               vocab_size,\r\n",
        "               encoded_dim,\r\n",
        "               pretrained_embed=None):\r\n",
        "    super(DecoderWithAttention, self).__init__()\r\n",
        "    self.hidden_size = hidden_size\r\n",
        "    self.vocab_size = vocab_size\r\n",
        "    self.embedding_dim = embedding_dim\r\n",
        "    self.encoded_dim = encoded_dim\r\n",
        "    self.embedding = self.init_embedding(pretrained_embed)\r\n",
        "    self.gru_in = self.embedding_dim + self.encoded_dim\r\n",
        "    self.gru = nn.GRU(input_size=self.gru_in,\r\n",
        "                      hidden_size=self.hidden_size,\r\n",
        "                      batch_first=True)\r\n",
        "    self.fc1 = nn.Linear(self.hidden_size, self.hidden_size)\r\n",
        "    self.fc2 = nn.Linear(self.hidden_size, self.vocab_size)\r\n",
        "    \r\n",
        "    self.attention = BahdanauAttention(encoded_image, self.hidden_size)\r\n",
        "    \r\n",
        "  def init_embedding(self, weight):\r\n",
        "    \"\"\"\r\n",
        "      if pretrained embedding exists then load from pretrained\r\n",
        "      else load from new one\r\n",
        "    \"\"\"\r\n",
        "    embedding = nn.Embedding(self.vocab_size, self.embedding_dim)\r\n",
        "    embedding.weight.data.uniform_(-0.1, 0.1)\r\n",
        "    if weight is not None:\r\n",
        "      embedding = nn.Embedding.from_pretrained(weight)\r\n",
        "    \r\n",
        "    return embedding\r\n",
        "\r\n",
        "  def forward(self, encoded_features, x, hidden):\r\n",
        "    \r\n",
        "    # get necessary size\r\n",
        "    batch_size = encoded_features.size(0)\r\n",
        "    # compute context vector and attention weights \r\n",
        "    # context_vector: (batch_size, visual_embedding_size(2048))\r\n",
        "    context_vector, atten_weights = self.attention(encoded_features, hidden)\r\n",
        "    # embed token x to vector\r\n",
        "    # x: (batch, embedding_size)\r\n",
        "    x = self.embedding(x)\r\n",
        "    # Concatinate context vector to input\r\n",
        "    x = torch.cat((x, context_vector), dim=-1)\r\n",
        "    # initialize h0 (batch_size, hidden_size)\r\n",
        "    h0 = init_hidden(batch_size)\r\n",
        "    # output size: (batch_size, sequence_len, hidden_size)\r\n",
        "    output, hn = self.gru(x, h0)\r\n",
        "    x = self.fc1(output)\r\n",
        "    # Change size to (batch_size*sequence_len, hidden_size)\r\n",
        "    x = x.view(-1, x.size()[-1])\r\n",
        "    x = self.fc2(x)\r\n",
        "\r\n",
        "    return x, hn, atten_weights\r\n",
        "    \r\n",
        "  def init_hidden(self, batch_size):\r\n",
        "    return nn.init.xavier_uniform_((batch_size, self.hidden_size))\r\n",
        "\r\n"
      ],
      "execution_count": null,
      "outputs": []
    },
    {
      "cell_type": "code",
      "metadata": {
        "id": "TOWhn9qwX2cf"
      },
      "source": [
        ""
      ],
      "execution_count": null,
      "outputs": []
    }
  ]
}