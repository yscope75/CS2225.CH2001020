{
  "nbformat": 4,
  "nbformat_minor": 0,
  "metadata": {
    "colab": {
      "name": "ImageAIDemo.ipynb",
      "provenance": [],
      "collapsed_sections": [],
      "authorship_tag": "ABX9TyPhyUhqdIL16KGamOQJLG2c",
      "include_colab_link": true
    },
    "kernelspec": {
      "name": "python3",
      "display_name": "Python 3"
    }
  },
  "cells": [
    {
      "cell_type": "markdown",
      "metadata": {
        "id": "view-in-github",
        "colab_type": "text"
      },
      "source": [
        "<a href=\"https://colab.research.google.com/github/yscope75/CS2225.CH2001020/blob/master/ImageAIDemo.ipynb\" target=\"_parent\"><img src=\"https://colab.research.google.com/assets/colab-badge.svg\" alt=\"Open In Colab\"/></a>"
      ]
    },
    {
      "cell_type": "code",
      "metadata": {
        "id": "HvuyxtD_wqcx",
        "outputId": "14935eeb-7e50-41b5-c41a-fa59c510c567",
        "colab": {
          "base_uri": "https://localhost:8080/",
          "height": 269
        }
      },
      "source": [
        "# Install ImageAI\n",
        "!pip3 install imageai --upgrade"
      ],
      "execution_count": null,
      "outputs": [
        {
          "output_type": "stream",
          "text": [
            "Collecting imageai\n",
            "\u001b[?25l  Downloading https://files.pythonhosted.org/packages/09/99/4023e191a343fb23f01ae02ac57a5ca58037c310e8d8c62f87638a3bafc7/imageai-2.1.5-py3-none-any.whl (180kB)\n",
            "\r\u001b[K     |█▉                              | 10kB 14.1MB/s eta 0:00:01\r\u001b[K     |███▋                            | 20kB 2.9MB/s eta 0:00:01\r\u001b[K     |█████▍                          | 30kB 3.5MB/s eta 0:00:01\r\u001b[K     |███████▎                        | 40kB 3.9MB/s eta 0:00:01\r\u001b[K     |█████████                       | 51kB 3.3MB/s eta 0:00:01\r\u001b[K     |██████████▉                     | 61kB 3.8MB/s eta 0:00:01\r\u001b[K     |████████████▊                   | 71kB 3.8MB/s eta 0:00:01\r\u001b[K     |██████████████▌                 | 81kB 4.2MB/s eta 0:00:01\r\u001b[K     |████████████████▎               | 92kB 4.4MB/s eta 0:00:01\r\u001b[K     |██████████████████▏             | 102kB 4.3MB/s eta 0:00:01\r\u001b[K     |████████████████████            | 112kB 4.3MB/s eta 0:00:01\r\u001b[K     |█████████████████████▊          | 122kB 4.3MB/s eta 0:00:01\r\u001b[K     |███████████████████████▋        | 133kB 4.3MB/s eta 0:00:01\r\u001b[K     |█████████████████████████▍      | 143kB 4.3MB/s eta 0:00:01\r\u001b[K     |███████████████████████████▏    | 153kB 4.3MB/s eta 0:00:01\r\u001b[K     |█████████████████████████████   | 163kB 4.3MB/s eta 0:00:01\r\u001b[K     |██████████████████████████████▉ | 174kB 4.3MB/s eta 0:00:01\r\u001b[K     |████████████████████████████████| 184kB 4.3MB/s \n",
            "\u001b[?25hRequirement already satisfied, skipping upgrade: matplotlib in /usr/local/lib/python3.6/dist-packages (from imageai) (3.2.2)\n",
            "Requirement already satisfied, skipping upgrade: scipy in /usr/local/lib/python3.6/dist-packages (from imageai) (1.4.1)\n",
            "Requirement already satisfied, skipping upgrade: pillow in /usr/local/lib/python3.6/dist-packages (from imageai) (7.0.0)\n",
            "Requirement already satisfied, skipping upgrade: numpy in /usr/local/lib/python3.6/dist-packages (from imageai) (1.18.5)\n",
            "Requirement already satisfied, skipping upgrade: h5py in /usr/local/lib/python3.6/dist-packages (from imageai) (2.10.0)\n",
            "Requirement already satisfied, skipping upgrade: python-dateutil>=2.1 in /usr/local/lib/python3.6/dist-packages (from matplotlib->imageai) (2.8.1)\n",
            "Requirement already satisfied, skipping upgrade: pyparsing!=2.0.4,!=2.1.2,!=2.1.6,>=2.0.1 in /usr/local/lib/python3.6/dist-packages (from matplotlib->imageai) (2.4.7)\n",
            "Requirement already satisfied, skipping upgrade: cycler>=0.10 in /usr/local/lib/python3.6/dist-packages (from matplotlib->imageai) (0.10.0)\n",
            "Requirement already satisfied, skipping upgrade: kiwisolver>=1.0.1 in /usr/local/lib/python3.6/dist-packages (from matplotlib->imageai) (1.2.0)\n",
            "Requirement already satisfied, skipping upgrade: six in /usr/local/lib/python3.6/dist-packages (from h5py->imageai) (1.15.0)\n",
            "Installing collected packages: imageai\n",
            "Successfully installed imageai-2.1.5\n"
          ],
          "name": "stdout"
        }
      ]
    },
    {
      "cell_type": "code",
      "metadata": {
        "id": "M9HhkfteaqXZ"
      },
      "source": [
        "# capture image from camera\n",
        "# Copy from https://colab.research.google.com/notebooks/snippets/advanced_outputs.ipynb#scrollTo=2viqYx97hPMi\n",
        "from IPython.display import display, Javascript\n",
        "from google.colab.output import eval_js\n",
        "from base64 import b64decode\n",
        "from google.colab import files\n",
        "import os\n",
        "from IPython.display import Image\n",
        "import requests\n",
        "\n",
        "def take_photo(des_folder, filename='photo.jpg', quality=0.8):\n",
        "  js = Javascript('''\n",
        "    async function takePhoto(quality) {\n",
        "      const div = document.createElement('div');\n",
        "      const capture = document.createElement('button');\n",
        "      capture.textContent = 'Capture';\n",
        "      div.appendChild(capture);\n",
        "\n",
        "      const video = document.createElement('video');\n",
        "      video.style.display = 'block';\n",
        "      const stream = await navigator.mediaDevices.getUserMedia({video: true});\n",
        "\n",
        "      document.body.appendChild(div);\n",
        "      div.appendChild(video);\n",
        "      video.srcObject = stream;\n",
        "      await video.play();\n",
        "\n",
        "      // Resize the output to fit the video element.\n",
        "      google.colab.output.setIframeHeight(document.documentElement.scrollHeight, true);\n",
        "\n",
        "      // Wait for Capture to be clicked.\n",
        "      await new Promise((resolve) => capture.onclick = resolve);\n",
        "\n",
        "      const canvas = document.createElement('canvas');\n",
        "      canvas.width = video.videoWidth;\n",
        "      canvas.height = video.videoHeight;\n",
        "      canvas.getContext('2d').drawImage(video, 0, 0);\n",
        "      stream.getVideoTracks()[0].stop();\n",
        "      div.remove();\n",
        "      return canvas.toDataURL('image/jpeg', quality);\n",
        "    }\n",
        "    ''')\n",
        "  display(js)\n",
        "  data = eval_js('takePhoto({})'.format(quality))\n",
        "  binary = b64decode(data.split(',')[1])\n",
        "  if not os.path.exists(des_folder):\n",
        "    os.mkdir(des_folder)\n",
        "  filename = os.path.join(des_folder, filename)\n",
        "  with open(filename, 'wb') as f:\n",
        "    f.write(binary)\n",
        "  return filename\n",
        "\n",
        "def upload_photo(des_folder='photos'):\n",
        "  \"\"\"\n",
        "    handle uploading photo from local host to colab\n",
        "    args:\n",
        "     - des_folder (str): folder where you want to store image file\n",
        "    return: link to uploaded file\n",
        "  \"\"\"\n",
        "  uploaded = files.upload()\n",
        "  assert len(uploaded) == 1, 'Please upload 01 image at a time'\n",
        "  if not os.path.exists(des_folder):\n",
        "    os.mkdir(des_folder)\n",
        "  image_path = os.path.join(des_folder, list(uploaded.keys()[0]))\n",
        "  \n",
        "  return image_path\n",
        "  \n",
        "def photo_from_url(photo_url, des_folder):\n",
        "  \"\"\"\n",
        "  Get photo from url\n",
        "  args:\n",
        "  - photo_url (str): online link to photo\n",
        "  - des_folder (str): link to folder where you want to store image\n",
        "  return:\n",
        "  - image_path: link to downloaded image\n",
        "  \"\"\"\n",
        "  image_name = os.path.basename(photo_url)\n",
        "  if not os.path.exists(des_folder):\n",
        "    os.mkdir(des_folder)\n",
        "  image_path = os.path.join(des_folder, image_name)\n",
        "  response = requests.get(photo_url)\n",
        "  with open(image_path, 'wb') as f:\n",
        "    f.write(response.content)\n",
        "\n",
        "  return image_path\n",
        "  \n",
        "  \n",
        "  \n",
        "  "
      ],
      "execution_count": 13,
      "outputs": []
    },
    {
      "cell_type": "code",
      "metadata": {
        "id": "0ZCrlsX20KS-"
      },
      "source": [
        ""
      ],
      "execution_count": null,
      "outputs": []
    }
  ]
}