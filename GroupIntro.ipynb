{
  "nbformat": 4,
  "nbformat_minor": 0,
  "metadata": {
    "colab": {
      "name": "GroupIntro.ipynb",
      "provenance": [],
      "collapsed_sections": [],
      "authorship_tag": "ABX9TyM8VQF6lS/Unqs/ADScxM11",
      "include_colab_link": true
    },
    "kernelspec": {
      "name": "python3",
      "display_name": "Python 3"
    }
  },
  "cells": [
    {
      "cell_type": "markdown",
      "metadata": {
        "id": "view-in-github",
        "colab_type": "text"
      },
      "source": [
        "<a href=\"https://colab.research.google.com/github/yscope75/CS2225.CH2001020/blob/master/GroupIntro.ipynb\" target=\"_parent\"><img src=\"https://colab.research.google.com/assets/colab-badge.svg\" alt=\"Open In Colab\"/></a>"
      ]
    },
    {
      "cell_type": "markdown",
      "metadata": {
        "id": "shDvXDDxgvKW",
        "colab_type": "text"
      },
      "source": [
        "GROUP INTRODUCTION:\n",
        "\n",
        "ID: N016\n",
        "Members:\n",
        "Huỳnh Thiện Ý CH2001020 yht.15@grad.uit.edu.vn  (leader)\n",
        "Trương Quốc Dũng CH2001002 dungtq.15@grad.uit.edu.vn (member)\n",
        "Phan Văn Tân CH1801013 tanpv.13@grad.uit.edu.vn (member)\n",
        "\n",
        "Project Introduction:\n",
        "name: Image captioning\n",
        "\n",
        "Input: Image\n",
        "Ouput: Text which summerize the content of the image.\n",
        "\n",
        "\n"
      ]
    }
  ]
}